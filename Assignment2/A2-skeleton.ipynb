{
 "cells": [
  {
   "cell_type": "markdown",
   "metadata": {},
   "source": [
    "# Group Details\n",
    "## Group Name:\n",
    "### Student 1: Johan van Dongen\n",
    "### Student 2:\n",
    "### Student 3:"
   ]
  },
  {
   "cell_type": "code",
   "execution_count": 1,
   "metadata": {},
   "outputs": [],
   "source": [
    "import numpy as np\n",
    "import matplotlib.pyplot as plt\n",
    "from tqdm import tqdm\n",
    "import torch\n",
    "import torch.nn as nn\n",
    "from torch.utils.data import Dataset, DataLoader\n",
    "from torch.nn.utils.rnn import pad_sequence\n",
    "import os"
   ]
  },
  {
   "cell_type": "code",
   "execution_count": 2,
   "metadata": {},
   "outputs": [],
   "source": [
    "def load_trajectory(filename, task):\n",
    "\n",
    "    traj = np.load(filename)\n",
    "    if task == 'task_1' or task == 'task_2':\n",
    "        trajectory = traj['trajectory']\n",
    "        energy = traj['energy']\n",
    "        return trajectory, energy\n",
    "    if task == 'task_3':\n",
    "        trajectory = traj['trajectory']\n",
    "        framework = traj['framework']\n",
    "        energy = traj['energy']\n",
    "        return trajectory, framework, energy"
   ]
  },
  {
   "cell_type": "markdown",
   "metadata": {},
   "source": [
    "# Data Exploration"
   ]
  },
  {
   "cell_type": "markdown",
   "metadata": {},
   "source": [
    "Below, you can find an example of how to load a trajectory. ```trajectory``` contains the particle position, velocity and charge data. ```energy``` contains the energy of the system at various timesteps. The shape of the arrays is as follows:\n",
    "\n",
    "```trajectory```: ```(time, n_bodies, [x, y, v_x, v_y, q])```\n",
    "\n",
    "```energy```: ```(time, 1)```"
   ]
  },
  {
   "cell_type": "code",
   "execution_count": 3,
   "metadata": {},
   "outputs": [
    {
     "name": "stdout",
     "output_type": "stream",
     "text": [
      "Trajectory shape: (40, 3, 5), Energy shape: (40, 1)\n"
     ]
    }
   ],
   "source": [
    "trajectory, energy = load_trajectory('data/task1_2/test/trajectory_900.npz', 'task_1')\n",
    "print(f'Trajectory shape: {trajectory.shape}, Energy shape: {energy.shape}')\n",
    "# 40 steps - 4 trajectories - 5 inputs (x, y, vx, vy, q)"
   ]
  },
  {
   "cell_type": "markdown",
   "metadata": {},
   "source": [
    "The following code provides an example of how to visualize a trajectory. Feel free to modify this code, or write your own function. When evaluating your model in task 2 and 3, keep in mind that you are only allowed to use the data at t=0 (the black dots in the visualization)."
   ]
  },
  {
   "cell_type": "code",
   "execution_count": 4,
   "metadata": {},
   "outputs": [
    {
     "name": "stdout",
     "output_type": "stream",
     "text": [
      "[[ 9.15666243 14.44253387 -0.33940448  0.29948979 -1.        ]\n",
      " [10.65836182  9.49862691 -0.13746563 -0.50589561 -1.        ]\n",
      " [ 6.79699051 14.52094816  0.19959454  0.42062426 -1.        ]]\n",
      "[ 9.15666243 14.44253387 -0.33940448  0.29948979 -1.         10.65836182\n",
      "  9.49862691 -0.13746563 -0.50589561 -1.          6.79699051 14.52094816\n",
      "  0.19959454  0.42062426 -1.        ]\n"
     ]
    }
   ],
   "source": [
    "print(trajectory[0])\n",
    "traj = [step.flatten() for step in trajectory]\n",
    "print(traj[0])\n",
    "# traj = torch.tensor(traj)"
   ]
  },
  {
   "cell_type": "code",
   "execution_count": 5,
   "metadata": {},
   "outputs": [
    {
     "data": {
      "image/png": "[encoded data removed]",
      "text/plain": [
       "<Figure size 400x400 with 1 Axes>"
      ]
     },
     "metadata": {},
     "output_type": "display_data"
    },
    {
     "data": {
      "image/png": "[encoded data removed]",
      "text/plain": [
       "<Figure size 400x100 with 1 Axes>"
      ]
     },
     "metadata": {},
     "output_type": "display_data"
    }
   ],
   "source": [
    "x = trajectory[...,0]\n",
    "y = trajectory[...,1]\n",
    "\n",
    "plt.figure(figsize=(4,4))\n",
    "plt.vlines([0,20],0,20)\n",
    "plt.hlines([0,20],0,20)\n",
    "\n",
    "plt.scatter(x[0], y[0], c='black')\n",
    "\n",
    "for i in range(x.shape[1]):\n",
    "    plt.scatter(x[:,i], y[:,i], s=5)\n",
    "\n",
    "plt.xlim(-1,21)\n",
    "plt.ylim(-1,21)\n",
    "\n",
    "plt.show()\n",
    "plt.figure(figsize=(4,1))\n",
    "plt.plot(energy)\n",
    "plt.xlabel('step')\n",
    "plt.title('System energy over time')\n",
    "plt.show();"
   ]
  },
  {
   "cell_type": "markdown",
   "metadata": {},
   "source": [
    "# Task 1"
   ]
  },
  {
   "cell_type": "code",
   "execution_count": 5,
   "metadata": {},
   "outputs": [],
   "source": [
    "device = torch.device(\"cuda:0\" if torch.cuda.is_available() else \"cpu\")"
   ]
  },
  {
   "cell_type": "markdown",
   "metadata": {},
   "source": [
    "# Create Dataset"
   ]
  },
  {
   "cell_type": "code",
   "execution_count": 8,
   "metadata": {},
   "outputs": [
    {
     "name": "stderr",
     "output_type": "stream",
     "text": [
      "100%|██████████| 1800/1800 [00:10<00:00, 169.37it/s]\n",
      "100%|██████████| 200/200 [00:01<00:00, 171.37it/s]\n"
     ]
    }
   ],
   "source": [
    "class TrajectoryDataset(Dataset):\n",
    "    def __init__(self, train=True):\n",
    "        type = \"train\" if train else \"test\"\n",
    "        trajectories = []\n",
    "        energies = []\n",
    "        files = os.listdir('data/task1_2/' + type)\n",
    "        for file in tqdm(files):\n",
    "            if \".npz\" in file:\n",
    "                trajectory, energy = load_trajectory('data/task1_2/' + type + \"/\" + file, 'task_1')\n",
    "                trajectories.append(trajectory)\n",
    "                energies.append(energy)\n",
    "        # self.x = torch.tensor([step.flatten() for trajectory in trajectories for step in trajectory ], dtype=torch.float32)\n",
    "        self.x = [[particle.flatten() for particle in step] for trajectory in trajectories for step in trajectory ]\n",
    "        self.y = torch.tensor(np.array(energies).flatten(), dtype=torch.float32)\n",
    "        self.n_samples = len(self.y)\n",
    "\n",
    "    def __getitem__(self, index):\n",
    "        return self.x[index], self.y[index]\n",
    "    \n",
    "    def __len__(self):\n",
    "        return self.n_samples\n",
    "train_task1 = TrajectoryDataset()\n",
    "test_task1 = TrajectoryDataset(train=False)"
   ]
  },
  {
   "cell_type": "markdown",
   "metadata": {},
   "source": [
    "We have either 3, 4 or 5 particles in a trajectory. Each trajectory is thus of variable length of 15, 20 or 25 (times 5, cuz each particle has x,y, vx, vy, q)\n",
    "\n",
    "To deal with this variable length we need a collate batch function that will pad the sequences with zeros (so all sequences will be of length 25 I guess?)"
   ]
  },
  {
   "cell_type": "code",
   "execution_count": 9,
   "metadata": {},
   "outputs": [],
   "source": [
    "def collate_batch(batch):\n",
    "    label_list, text_list = [], []\n",
    "    for (_text, _label) in batch:\n",
    "        label_list.append(_label)    \n",
    "        processed_text = torch.tensor(_text, dtype=torch.float32)\n",
    "        text_list.append(processed_text)\n",
    "\n",
    "        \n",
    "    # convert label_lists to torch.tensor that is compatible with pytorch\n",
    "    label_batch = torch.tensor(label_list, dtype=torch.float32)\n",
    "    \n",
    "    # add zeros to ensure that all sequences have same length\n",
    "    padded_text_batch = pad_sequence(sequences = text_list, batch_first=True, padding_value=0.0)\n",
    "    \n",
    "    return label_batch, padded_text_batch"
   ]
  },
  {
   "cell_type": "code",
   "execution_count": 11,
   "metadata": {},
   "outputs": [],
   "source": [
    "train_dataloader = DataLoader(dataset=train_task1, batch_size=1, collate_fn=collate_batch)\n",
    "energies = []\n",
    "for idx, (y_true, trajectory_batch) in enumerate(train_dataloader):\n",
    "    energies.append(y_true)"
   ]
  },
  {
   "cell_type": "code",
   "execution_count": 21,
   "metadata": {},
   "outputs": [
    {
     "name": "stdout",
     "output_type": "stream",
     "text": [
      "36000\n"
     ]
    },
    {
     "data": {
      "image/png": "[encoded data removed]",
      "text/plain": [
       "<Figure size 640x480 with 1 Axes>"
      ]
     },
     "metadata": {},
     "output_type": "display_data"
    }
   ],
   "source": [
    "print(len(energies))\n",
    "plt.hist([x.item() for x in energies], bins=[x for x in range(-15,15)])\n",
    "plt.show()"
   ]
  },
  {
   "cell_type": "markdown",
   "metadata": {},
   "source": [
    "# Model - Energy Predictor"
   ]
  },
  {
   "cell_type": "code",
   "execution_count": 17,
   "metadata": {},
   "outputs": [],
   "source": [
    "class EnergyPredictor(nn.Module):\n",
    "    def __init__(self, input_size=5, hidden_dim=32):\n",
    "        super(EnergyPredictor, self).__init__()\n",
    "        self.rnn = nn.LSTM(input_size, hidden_dim, 2, batch_first=True)\n",
    "        self.fc = nn.Linear(hidden_dim, 1)\n",
    "        self.criterion = nn.MSELoss()\n",
    "        self.optimizer = torch.optim.Adam(self.parameters())\n",
    "\n",
    "    def forward(self, steps):\n",
    "        out, (hidden, _) = self.rnn(steps)\n",
    "        out = self.fc(out)\n",
    "        last_timestep = out[:,-1] # Only keep the last output (that output is based on all the particles in the trajectory combined, instead of a subset thereof)\n",
    "        return last_timestep\n",
    "model = EnergyPredictor().to(device)"
   ]
  },
  {
   "cell_type": "markdown",
   "metadata": {},
   "source": [
    "# Training"
   ]
  },
  {
   "cell_type": "code",
   "execution_count": 18,
   "metadata": {},
   "outputs": [],
   "source": [
    "import time\n",
    "\n",
    "class Trainer():\n",
    "    def __init__(self, epochs, batch_size):\n",
    "        self.epochs = epochs\n",
    "        self.batch_size = batch_size\n",
    "\n",
    "    def train(self, dataloader):\n",
    "        model.train()\n",
    "        losses = []\n",
    "        for (y_true, trajectory_batch) in tqdm(dataloader):\n",
    "            \n",
    "            model.optimizer.zero_grad()\n",
    "            \n",
    "            y_pred = model(trajectory_batch)\n",
    "            \n",
    "            loss = model.criterion(y_pred, y_true)\n",
    "            losses.append(loss.item())\n",
    "            loss.backward()\n",
    "            torch.nn.utils.clip_grad_norm_(model.parameters(), 0.1)\n",
    "            model.optimizer.step()\n",
    "                \n",
    "        return np.array(losses).mean()\n",
    "\n",
    "    def evaluate(self, dataloader):\n",
    "        model.eval()\n",
    "        losses = []\n",
    "        with torch.no_grad():\n",
    "            for idx, (y_true, trajectory_batch) in enumerate(dataloader):\n",
    "                y_pred = model(trajectory_batch)\n",
    "                loss = model.criterion(y_pred, y_true)\n",
    "                losses.append(loss.item())\n",
    "\n",
    "        return np.array(losses).mean()\n",
    "    \n",
    "    def run_trainer(self):\n",
    "        train_loss, val_loss = [], []\n",
    "        for epoch in range(1, self.epochs + 1):\n",
    "            epoch_start_time = time.time()\n",
    "            train_dataloader = DataLoader(dataset=train_task1, batch_size=self.batch_size, collate_fn=collate_batch)\n",
    "            test_dataloader = DataLoader(dataset=test_task1, batch_size=self.batch_size, collate_fn=collate_batch)\n",
    "            train_loss.append(self.train(train_dataloader))\n",
    "            val_loss.append(self.evaluate(test_dataloader))\n",
    "            \n",
    "            print('-' * 59)\n",
    "            print('| end of epoch {:3d} | time: {:5.2f}s | ' 'train loss {:8.3f} valid loss {:8.3f}'.format(epoch, time.time() - epoch_start_time, train_loss[-1], val_loss[-1]))\n",
    "            print('-' * 59)"
   ]
  },
  {
   "cell_type": "code",
   "execution_count": 19,
   "metadata": {},
   "outputs": [
    {
     "name": "stderr",
     "output_type": "stream",
     "text": [
      "  0%|          | 0/282 [00:00<?, ?it/s]c:\\Users\\20203755\\envs\\dataScience\\lib\\site-packages\\torch\\nn\\modules\\loss.py:535: UserWarning: Using a target size (torch.Size([128])) that is different to the input size (torch.Size([128, 1])). This will likely lead to incorrect results due to broadcasting. Please ensure they have the same size.\n",
      "  return F.mse_loss(input, target, reduction=self.reduction)\n",
      " 97%|█████████▋| 273/282 [00:03<00:00, 80.70it/s]c:\\Users\\20203755\\envs\\dataScience\\lib\\site-packages\\torch\\nn\\modules\\loss.py:535: UserWarning: Using a target size (torch.Size([32])) that is different to the input size (torch.Size([32, 1])). This will likely lead to incorrect results due to broadcasting. Please ensure they have the same size.\n",
      "  return F.mse_loss(input, target, reduction=self.reduction)\n",
      "100%|██████████| 282/282 [00:03<00:00, 81.11it/s]\n"
     ]
    },
    {
     "name": "stdout",
     "output_type": "stream",
     "text": [
      "-----------------------------------------------------------\n",
      "| end of epoch   1 | time:  3.69s | train loss    3.639 valid loss    1.448\n",
      "-----------------------------------------------------------\n"
     ]
    },
    {
     "name": "stderr",
     "output_type": "stream",
     "text": [
      "100%|██████████| 282/282 [00:03<00:00, 83.56it/s]\n"
     ]
    },
    {
     "name": "stdout",
     "output_type": "stream",
     "text": [
      "-----------------------------------------------------------\n",
      "| end of epoch   2 | time:  3.59s | train loss    3.604 valid loss    1.430\n",
      "-----------------------------------------------------------\n"
     ]
    },
    {
     "name": "stderr",
     "output_type": "stream",
     "text": [
      "100%|██████████| 282/282 [00:03<00:00, 81.14it/s]\n"
     ]
    },
    {
     "name": "stdout",
     "output_type": "stream",
     "text": [
      "-----------------------------------------------------------\n",
      "| end of epoch   3 | time:  3.68s | train loss    3.604 valid loss    1.432\n",
      "-----------------------------------------------------------\n"
     ]
    },
    {
     "name": "stderr",
     "output_type": "stream",
     "text": [
      "100%|██████████| 282/282 [00:03<00:00, 82.42it/s]\n"
     ]
    },
    {
     "name": "stdout",
     "output_type": "stream",
     "text": [
      "-----------------------------------------------------------\n",
      "| end of epoch   4 | time:  3.60s | train loss    3.602 valid loss    1.431\n",
      "-----------------------------------------------------------\n"
     ]
    },
    {
     "name": "stderr",
     "output_type": "stream",
     "text": [
      "100%|██████████| 282/282 [00:03<00:00, 80.15it/s]\n"
     ]
    },
    {
     "name": "stdout",
     "output_type": "stream",
     "text": [
      "-----------------------------------------------------------\n",
      "| end of epoch   5 | time:  3.74s | train loss    3.599 valid loss    1.431\n",
      "-----------------------------------------------------------\n"
     ]
    },
    {
     "name": "stderr",
     "output_type": "stream",
     "text": [
      "100%|██████████| 282/282 [00:03<00:00, 81.35it/s]\n"
     ]
    },
    {
     "name": "stdout",
     "output_type": "stream",
     "text": [
      "-----------------------------------------------------------\n",
      "| end of epoch   6 | time:  3.67s | train loss    3.598 valid loss    1.431\n",
      "-----------------------------------------------------------\n"
     ]
    },
    {
     "name": "stderr",
     "output_type": "stream",
     "text": [
      "100%|██████████| 282/282 [00:03<00:00, 79.31it/s]\n"
     ]
    },
    {
     "name": "stdout",
     "output_type": "stream",
     "text": [
      "-----------------------------------------------------------\n",
      "| end of epoch   7 | time:  3.77s | train loss    3.598 valid loss    1.431\n",
      "-----------------------------------------------------------\n"
     ]
    },
    {
     "name": "stderr",
     "output_type": "stream",
     "text": [
      "100%|██████████| 282/282 [00:03<00:00, 73.55it/s]\n"
     ]
    },
    {
     "name": "stdout",
     "output_type": "stream",
     "text": [
      "-----------------------------------------------------------\n",
      "| end of epoch   8 | time:  4.05s | train loss    3.597 valid loss    1.430\n",
      "-----------------------------------------------------------\n"
     ]
    },
    {
     "name": "stderr",
     "output_type": "stream",
     "text": [
      "100%|██████████| 282/282 [00:03<00:00, 78.46it/s]\n"
     ]
    },
    {
     "name": "stdout",
     "output_type": "stream",
     "text": [
      "-----------------------------------------------------------\n",
      "| end of epoch   9 | time:  3.82s | train loss    3.597 valid loss    1.429\n",
      "-----------------------------------------------------------\n"
     ]
    },
    {
     "name": "stderr",
     "output_type": "stream",
     "text": [
      "100%|██████████| 282/282 [00:04<00:00, 63.46it/s]\n"
     ]
    },
    {
     "name": "stdout",
     "output_type": "stream",
     "text": [
      "-----------------------------------------------------------\n",
      "| end of epoch  10 | time:  4.75s | train loss    3.596 valid loss    1.428\n",
      "-----------------------------------------------------------\n"
     ]
    }
   ],
   "source": [
    "# hyperparameters\n",
    "EPOCHS = 10 # epoch\n",
    "BATCH_SIZE = 128 # batch size for training/validation\n",
    "\n",
    "trainer = Trainer(EPOCHS, BATCH_SIZE)\n",
    "trainer.run_trainer()"
   ]
  },
  {
   "cell_type": "markdown",
   "metadata": {},
   "source": [
    "# Visualize"
   ]
  },
  {
   "cell_type": "code",
   "execution_count": 20,
   "metadata": {},
   "outputs": [
    {
     "data": {
      "image/png": "[encoded data removed]",
      "text/plain": [
       "<Figure size 640x480 with 1 Axes>"
      ]
     },
     "metadata": {},
     "output_type": "display_data"
    }
   ],
   "source": [
    "# ...\n",
    "test_dataloader = DataLoader(dataset=test_task1, batch_size=1, collate_fn=collate_batch)\n",
    "predict = []\n",
    "true = []\n",
    "def evaluate(dataloader):\n",
    "    model.eval()\n",
    "    losses = []\n",
    "    with torch.no_grad():\n",
    "        for idx, (y_true, trajectory_batch) in enumerate(dataloader):\n",
    "            y_pred = model(trajectory_batch)\n",
    "            true.append(y_true)\n",
    "            predict.append(y_pred)\n",
    "            # print(y_pred, y_true)\n",
    "evaluate(test_dataloader)\n",
    "plt.scatter(true, predict)\n",
    "plt.show()"
   ]
  },
  {
   "cell_type": "markdown",
   "metadata": {},
   "source": [
    "# Task 2"
   ]
  },
  {
   "cell_type": "markdown",
   "metadata": {},
   "source": [
    "Implement task 2 below. Feel free to add extra code cells for different components of your implementation."
   ]
  },
  {
   "cell_type": "markdown",
   "metadata": {},
   "source": [
    "# Create Dataset"
   ]
  },
  {
   "cell_type": "code",
   "execution_count": 94,
   "metadata": {},
   "outputs": [
    {
     "name": "stderr",
     "output_type": "stream",
     "text": [
      "100%|██████████| 900/900 [00:00<00:00, 1370.26it/s]\n"
     ]
    },
    {
     "name": "stdout",
     "output_type": "stream",
     "text": [
      "torch.Size([3587, 40, 5])\n"
     ]
    },
    {
     "name": "stderr",
     "output_type": "stream",
     "text": [
      "100%|██████████| 100/100 [00:01<00:00, 58.20it/s]"
     ]
    },
    {
     "name": "stdout",
     "output_type": "stream",
     "text": [
      "torch.Size([390, 40, 5])\n"
     ]
    },
    {
     "name": "stderr",
     "output_type": "stream",
     "text": [
      "\n"
     ]
    }
   ],
   "source": [
    "class TrajectoryDataset(Dataset):\n",
    "    def __init__(self, train=True):\n",
    "        type = \"train\" if train else \"test\"\n",
    "        trajectories = []\n",
    "        files = list(filter(lambda file: \".npz\" in file ,os.listdir('data/task1_2/' + type)))\n",
    "        for file in tqdm(files):\n",
    "            trajectory, energy = load_trajectory('data/task1_2/' + type + \"/\" + file, 'task_1')\n",
    "            num_particles = trajectory.shape[1]\n",
    "            for i in range(num_particles):\n",
    "                trajectories.append(trajectory[:,i])\n",
    "        self.x = torch.tensor(trajectories, dtype=torch.float32)\n",
    "        print(self.x.shape)\n",
    "        self.y = self.x\n",
    "        self.n_samples = len(trajectories)\n",
    "\n",
    "    def __getitem__(self, index):\n",
    "        return self.x[index], self.y[index]\n",
    "    \n",
    "    def __len__(self):\n",
    "        return self.n_samples\n",
    "train_task1 = TrajectoryDataset()\n",
    "test_task1 = TrajectoryDataset(train=False)"
   ]
  },
  {
   "cell_type": "code",
   "execution_count": 95,
   "metadata": {},
   "outputs": [
    {
     "name": "stdout",
     "output_type": "stream",
     "text": [
      "0 tensor([[[ 9.5955e+00,  7.5320e+00,  5.1612e-01, -6.9281e-02, -1.0000e+00],\n",
      "         [ 9.8588e+00,  7.4987e+00,  5.3647e-01, -6.3824e-02, -1.0000e+00],\n",
      "         [ 1.0132e+01,  7.4680e+00,  5.5510e-01, -5.8939e-02, -1.0000e+00],\n",
      "         [ 1.0414e+01,  7.4397e+00,  5.7192e-01, -5.4423e-02, -1.0000e+00],\n",
      "         [ 1.0703e+01,  7.4136e+00,  5.8697e-01, -5.0101e-02, -1.0000e+00],\n",
      "         [ 1.1000e+01,  7.3896e+00,  6.0038e-01, -4.5854e-02, -1.0000e+00],\n",
      "         [ 1.1304e+01,  7.3677e+00,  6.1234e-01, -4.1624e-02, -1.0000e+00],\n",
      "         [ 1.1612e+01,  7.3480e+00,  6.2306e-01, -3.7415e-02, -1.0000e+00],\n",
      "         [ 1.1926e+01,  7.3303e+00,  6.3276e-01, -3.3287e-02, -1.0000e+00],\n",
      "         [ 1.2245e+01,  7.3147e+00,  6.4163e-01, -2.9347e-02, -1.0000e+00],\n",
      "         [ 1.2568e+01,  7.3009e+00,  6.4984e-01, -2.5737e-02, -1.0000e+00],\n",
      "         [ 1.2895e+01,  7.2888e+00,  6.5756e-01, -2.2624e-02, -1.0000e+00],\n",
      "         [ 1.3225e+01,  7.2782e+00,  6.6489e-01, -2.0204e-02, -1.0000e+00],\n",
      "         [ 1.3560e+01,  7.2685e+00,  6.7197e-01, -1.8696e-02, -1.0000e+00],\n",
      "         [ 1.3897e+01,  7.2593e+00,  6.7886e-01, -1.8374e-02, -1.0000e+00],\n",
      "         [ 1.4239e+01,  7.2499e+00,  6.8563e-01, -1.9644e-02, -1.0000e+00],\n",
      "         [ 1.4583e+01,  7.2393e+00,  6.9182e-01, -2.2924e-02, -1.0000e+00],\n",
      "         [ 1.4930e+01,  7.2271e+00,  6.9602e-01, -2.5660e-02, -1.0000e+00],\n",
      "         [ 1.5279e+01,  7.2139e+00,  6.9882e-01, -2.6745e-02, -1.0000e+00],\n",
      "         [ 1.5629e+01,  7.2005e+00,  7.0067e-01, -2.6581e-02, -1.0000e+00],\n",
      "         [ 1.5979e+01,  7.1875e+00,  7.0182e-01, -2.5481e-02, -1.0000e+00],\n",
      "         [ 1.6330e+01,  7.1752e+00,  7.0242e-01, -2.3680e-02, -1.0000e+00],\n",
      "         [ 1.6682e+01,  7.1639e+00,  7.0261e-01, -2.1372e-02, -1.0000e+00],\n",
      "         [ 1.7033e+01,  7.1538e+00,  7.0250e-01, -1.8731e-02, -1.0000e+00],\n",
      "         [ 1.7384e+01,  7.1451e+00,  7.0234e-01, -1.6076e-02, -1.0000e+00],\n",
      "         [ 1.7735e+01,  7.1377e+00,  7.0224e-01, -1.3577e-02, -1.0000e+00],\n",
      "         [ 1.8086e+01,  7.1315e+00,  7.0225e-01, -1.1338e-02, -1.0000e+00],\n",
      "         [ 1.8438e+01,  7.1263e+00,  7.0241e-01, -9.4469e-03, -1.0000e+00],\n",
      "         [ 1.8789e+01,  7.1220e+00,  7.0276e-01, -7.9857e-03, -1.0000e+00],\n",
      "         [ 1.9140e+01,  7.1183e+00,  7.0334e-01, -7.0304e-03, -1.0000e+00],\n",
      "         [ 1.9492e+01,  7.1149e+00,  7.0421e-01, -6.6573e-03, -1.0000e+00],\n",
      "         [ 1.9845e+01,  7.1115e+00,  7.0540e-01, -6.9511e-03, -1.0000e+00],\n",
      "         [ 1.9730e-01,  7.1078e+00,  7.0400e-01, -8.0295e-03, -1.0000e+00],\n",
      "         [ 5.4850e-01,  7.1033e+00,  7.0095e-01, -1.0149e-02, -1.0000e+00],\n",
      "         [ 8.9829e-01,  7.0975e+00,  6.9805e-01, -1.3191e-02, -1.0000e+00],\n",
      "         [ 1.2465e+00,  7.0902e+00,  6.9468e-01, -1.5733e-02, -1.0000e+00],\n",
      "         [ 1.5930e+00,  7.0818e+00,  6.9138e-01, -1.8088e-02, -1.0000e+00],\n",
      "         [ 1.9379e+00,  7.0721e+00,  6.8853e-01, -2.0586e-02, -1.0000e+00],\n",
      "         [ 2.2816e+00,  7.0610e+00,  6.8641e-01, -2.3877e-02, -1.0000e+00],\n",
      "         [ 2.6242e+00,  7.0498e+00,  6.8390e-01, -2.0846e-02, -1.0000e+00]]]) tensor([[[ 9.5955e+00,  7.5320e+00,  5.1612e-01, -6.9281e-02, -1.0000e+00],\n",
      "         [ 9.8588e+00,  7.4987e+00,  5.3647e-01, -6.3824e-02, -1.0000e+00],\n",
      "         [ 1.0132e+01,  7.4680e+00,  5.5510e-01, -5.8939e-02, -1.0000e+00],\n",
      "         [ 1.0414e+01,  7.4397e+00,  5.7192e-01, -5.4423e-02, -1.0000e+00],\n",
      "         [ 1.0703e+01,  7.4136e+00,  5.8697e-01, -5.0101e-02, -1.0000e+00],\n",
      "         [ 1.1000e+01,  7.3896e+00,  6.0038e-01, -4.5854e-02, -1.0000e+00],\n",
      "         [ 1.1304e+01,  7.3677e+00,  6.1234e-01, -4.1624e-02, -1.0000e+00],\n",
      "         [ 1.1612e+01,  7.3480e+00,  6.2306e-01, -3.7415e-02, -1.0000e+00],\n",
      "         [ 1.1926e+01,  7.3303e+00,  6.3276e-01, -3.3287e-02, -1.0000e+00],\n",
      "         [ 1.2245e+01,  7.3147e+00,  6.4163e-01, -2.9347e-02, -1.0000e+00],\n",
      "         [ 1.2568e+01,  7.3009e+00,  6.4984e-01, -2.5737e-02, -1.0000e+00],\n",
      "         [ 1.2895e+01,  7.2888e+00,  6.5756e-01, -2.2624e-02, -1.0000e+00],\n",
      "         [ 1.3225e+01,  7.2782e+00,  6.6489e-01, -2.0204e-02, -1.0000e+00],\n",
      "         [ 1.3560e+01,  7.2685e+00,  6.7197e-01, -1.8696e-02, -1.0000e+00],\n",
      "         [ 1.3897e+01,  7.2593e+00,  6.7886e-01, -1.8374e-02, -1.0000e+00],\n",
      "         [ 1.4239e+01,  7.2499e+00,  6.8563e-01, -1.9644e-02, -1.0000e+00],\n",
      "         [ 1.4583e+01,  7.2393e+00,  6.9182e-01, -2.2924e-02, -1.0000e+00],\n",
      "         [ 1.4930e+01,  7.2271e+00,  6.9602e-01, -2.5660e-02, -1.0000e+00],\n",
      "         [ 1.5279e+01,  7.2139e+00,  6.9882e-01, -2.6745e-02, -1.0000e+00],\n",
      "         [ 1.5629e+01,  7.2005e+00,  7.0067e-01, -2.6581e-02, -1.0000e+00],\n",
      "         [ 1.5979e+01,  7.1875e+00,  7.0182e-01, -2.5481e-02, -1.0000e+00],\n",
      "         [ 1.6330e+01,  7.1752e+00,  7.0242e-01, -2.3680e-02, -1.0000e+00],\n",
      "         [ 1.6682e+01,  7.1639e+00,  7.0261e-01, -2.1372e-02, -1.0000e+00],\n",
      "         [ 1.7033e+01,  7.1538e+00,  7.0250e-01, -1.8731e-02, -1.0000e+00],\n",
      "         [ 1.7384e+01,  7.1451e+00,  7.0234e-01, -1.6076e-02, -1.0000e+00],\n",
      "         [ 1.7735e+01,  7.1377e+00,  7.0224e-01, -1.3577e-02, -1.0000e+00],\n",
      "         [ 1.8086e+01,  7.1315e+00,  7.0225e-01, -1.1338e-02, -1.0000e+00],\n",
      "         [ 1.8438e+01,  7.1263e+00,  7.0241e-01, -9.4469e-03, -1.0000e+00],\n",
      "         [ 1.8789e+01,  7.1220e+00,  7.0276e-01, -7.9857e-03, -1.0000e+00],\n",
      "         [ 1.9140e+01,  7.1183e+00,  7.0334e-01, -7.0304e-03, -1.0000e+00],\n",
      "         [ 1.9492e+01,  7.1149e+00,  7.0421e-01, -6.6573e-03, -1.0000e+00],\n",
      "         [ 1.9845e+01,  7.1115e+00,  7.0540e-01, -6.9511e-03, -1.0000e+00],\n",
      "         [ 1.9730e-01,  7.1078e+00,  7.0400e-01, -8.0295e-03, -1.0000e+00],\n",
      "         [ 5.4850e-01,  7.1033e+00,  7.0095e-01, -1.0149e-02, -1.0000e+00],\n",
      "         [ 8.9829e-01,  7.0975e+00,  6.9805e-01, -1.3191e-02, -1.0000e+00],\n",
      "         [ 1.2465e+00,  7.0902e+00,  6.9468e-01, -1.5733e-02, -1.0000e+00],\n",
      "         [ 1.5930e+00,  7.0818e+00,  6.9138e-01, -1.8088e-02, -1.0000e+00],\n",
      "         [ 1.9379e+00,  7.0721e+00,  6.8853e-01, -2.0586e-02, -1.0000e+00],\n",
      "         [ 2.2816e+00,  7.0610e+00,  6.8641e-01, -2.3877e-02, -1.0000e+00],\n",
      "         [ 2.6242e+00,  7.0498e+00,  6.8390e-01, -2.0846e-02, -1.0000e+00]]])\n"
     ]
    }
   ],
   "source": [
    "train_dataloader = DataLoader(dataset=train_task1, batch_size=1)\n",
    "test_dataloader = DataLoader(dataset=test_task1, batch_size=1)\n",
    "for idx, (y_true, trajectory_batch) in enumerate(train_dataloader):\n",
    "    print(idx, y_true, trajectory_batch)\n",
    "    break"
   ]
  },
  {
   "cell_type": "markdown",
   "metadata": {},
   "source": [
    "# Model - Trajectory Predictor"
   ]
  },
  {
   "cell_type": "code",
   "execution_count": 83,
   "metadata": {},
   "outputs": [],
   "source": [
    "class TrajectoryPredictor(nn.Module):\n",
    "    def __init__(self, input_size=5, hidden_dim=32):\n",
    "        super(TrajectoryPredictor, self).__init__()\n",
    "        self.rnn = nn.LSTM(input_size, hidden_dim, 2, batch_first=True)\n",
    "        self.fc = nn.Linear(hidden_dim, input_size)\n",
    "        self.criterion = nn.MSELoss()\n",
    "        self.optimizer = torch.optim.Adam(self.parameters())\n",
    "\n",
    "    def forward(self, steps, hidden_state=None):\n",
    "        out, hidden_state = self.rnn(steps, hidden_state)\n",
    "        out = self.fc(out)\n",
    "        # last_timestep = out[:,-1] # Only keep the last output (that output is based on all the particles in the trajectory combined, instead of a subset thereof)\n",
    "        return out, hidden_state\n",
    "model = TrajectoryPredictor().to(device)"
   ]
  },
  {
   "cell_type": "markdown",
   "metadata": {},
   "source": [
    "# Trainer"
   ]
  },
  {
   "cell_type": "code",
   "execution_count": 122,
   "metadata": {},
   "outputs": [],
   "source": [
    "import time\n",
    "\n",
    "class Trainer():\n",
    "    def __init__(self, epochs, batch_size):\n",
    "        self.epochs = epochs\n",
    "        self.batch_size = batch_size\n",
    "\n",
    "    def train(self, dataloader):\n",
    "        pass\n",
    "\n",
    "    def evaluate(self, dataloader):\n",
    "        pass\n",
    "    \n",
    "    def run_trainer(self):\n",
    "        seq_len = 40\n",
    "        teacher_forcing_ratio = 0.5\n",
    "        train_dataloader = DataLoader(dataset=train_task1, batch_size=1)\n",
    "        input_data = train_dataloader\n",
    "        # test_dataloader = DataLoader(dataset=test_task1, batch_size=self.batch_size, collate_fn=collate_batch)\n",
    "        for epoch in range(self.epochs):\n",
    "            model.train()\n",
    "            model.optimizer.zero_grad()\n",
    "            \n",
    "            hidden_state = None\n",
    "            loss = 0\n",
    "            losses = []\n",
    "            \n",
    "            for idx, (y_true, trajectory_batch) in tqdm(enumerate(train_dataloader)):\n",
    "                # model.train()\n",
    "                # model.optimizer.zero_grad()\n",
    "                # hidden_state = None\n",
    "                # loss = 0\n",
    "                for t in range(seq_len-1, seq_len):  # seq_len is the number of time steps\n",
    "                    # print(trajectory_batch.shape)\n",
    "                    input_t = trajectory_batch.squeeze()[:t]\n",
    "                    # print(\"input\", input_t.shape)\n",
    "                    # print(\"input\", len(input_t))\n",
    "                    target_t = trajectory_batch.squeeze()[1:t + 1]\n",
    "                    \n",
    "                    # if t == 1 or torch.rand(1).item() < teacher_forcing_ratio:\n",
    "                    #     input_t = trajectory_batch.squeeze()[:t]\n",
    "                    # else:\n",
    "                    #     input_t = output_t.detach()\n",
    "                    \n",
    "                    output_t, hidden_state = model(input_t.squeeze(1), hidden_state)\n",
    "                    # print(output_t.shape, target_t.shape)\n",
    "                    loss += model.criterion(output_t.squeeze(1), target_t.squeeze(1))\n",
    "                # print(idx, loss)\n",
    "                if (idx%1 == 0):\n",
    "                    losses.append(loss.item())\n",
    "                    loss.backward()\n",
    "                    model.optimizer.step()\n",
    "                    hidden_state = None\n",
    "                    loss = 0\n",
    "                # if (idx > 10):\n",
    "                #     break\n",
    "            # loss.backward()\n",
    "            # model.optimizer.step()\n",
    "            \n",
    "            print(f'Epoch {epoch+1}/{self.epochs}, Loss: {np.array(losses).mean()}')"
   ]
  },
  {
   "cell_type": "code",
   "execution_count": 123,
   "metadata": {},
   "outputs": [
    {
     "name": "stderr",
     "output_type": "stream",
     "text": [
      "3587it [00:13, 258.44it/s]\n"
     ]
    },
    {
     "name": "stdout",
     "output_type": "stream",
     "text": [
      "Epoch 1/10, Loss: 3.601302169851184\n"
     ]
    },
    {
     "name": "stderr",
     "output_type": "stream",
     "text": [
      "3587it [00:14, 245.37it/s]\n"
     ]
    },
    {
     "name": "stdout",
     "output_type": "stream",
     "text": [
      "Epoch 2/10, Loss: 3.7589169499483286\n"
     ]
    },
    {
     "name": "stderr",
     "output_type": "stream",
     "text": [
      "3587it [00:15, 232.71it/s]\n"
     ]
    },
    {
     "name": "stdout",
     "output_type": "stream",
     "text": [
      "Epoch 3/10, Loss: 3.160000587917152\n"
     ]
    },
    {
     "name": "stderr",
     "output_type": "stream",
     "text": [
      "3587it [00:16, 221.85it/s]\n"
     ]
    },
    {
     "name": "stdout",
     "output_type": "stream",
     "text": [
      "Epoch 4/10, Loss: 3.3730516197507283\n"
     ]
    },
    {
     "name": "stderr",
     "output_type": "stream",
     "text": [
      "3587it [00:16, 218.55it/s]\n"
     ]
    },
    {
     "name": "stdout",
     "output_type": "stream",
     "text": [
      "Epoch 5/10, Loss: 3.1439198056136726\n"
     ]
    },
    {
     "name": "stderr",
     "output_type": "stream",
     "text": [
      "3587it [00:16, 215.10it/s]\n"
     ]
    },
    {
     "name": "stdout",
     "output_type": "stream",
     "text": [
      "Epoch 6/10, Loss: 2.8287077847549367\n"
     ]
    },
    {
     "name": "stderr",
     "output_type": "stream",
     "text": [
      "3587it [00:17, 208.13it/s]\n"
     ]
    },
    {
     "name": "stdout",
     "output_type": "stream",
     "text": [
      "Epoch 7/10, Loss: 3.3889891599708193\n"
     ]
    },
    {
     "name": "stderr",
     "output_type": "stream",
     "text": [
      "3587it [00:17, 204.80it/s]\n"
     ]
    },
    {
     "name": "stdout",
     "output_type": "stream",
     "text": [
      "Epoch 8/10, Loss: 3.6827893208952247\n"
     ]
    },
    {
     "name": "stderr",
     "output_type": "stream",
     "text": [
      "3587it [00:17, 202.07it/s]\n"
     ]
    },
    {
     "name": "stdout",
     "output_type": "stream",
     "text": [
      "Epoch 9/10, Loss: 3.6062625222861486\n"
     ]
    },
    {
     "name": "stderr",
     "output_type": "stream",
     "text": [
      "3587it [00:18, 197.70it/s]"
     ]
    },
    {
     "name": "stdout",
     "output_type": "stream",
     "text": [
      "Epoch 10/10, Loss: 3.4096654041965992\n"
     ]
    },
    {
     "name": "stderr",
     "output_type": "stream",
     "text": [
      "\n"
     ]
    }
   ],
   "source": [
    "trainer = Trainer(10, 1)\n",
    "trainer.run_trainer()"
   ]
  },
  {
   "cell_type": "code",
   "execution_count": 124,
   "metadata": {},
   "outputs": [
    {
     "name": "stderr",
     "output_type": "stream",
     "text": [
      "6it [00:00, 28.32it/s]"
     ]
    },
    {
     "name": "stdout",
     "output_type": "stream",
     "text": [
      "Loss: 3.4245493412017822\n",
      "pred: tensor([15.1989,  3.7665]), y_true: tensor([17.9282,  1.6364])\n",
      "Loss: 3.3717751502990723\n",
      "pred: tensor([ 8.4964, 14.6131]), y_true: tensor([ 8.4593, 18.8855])\n",
      "Loss: 6.747257709503174\n",
      "pred: tensor([14.5227,  8.1361]), y_true: tensor([15.4104,  7.3697])\n",
      "Loss: 3.3061325550079346\n",
      "pred: tensor([14.5087, 14.9619]), y_true: tensor([13.7451,  0.3136])\n",
      "Loss: 2.5463972091674805\n",
      "pred: tensor([ 1.7068, 13.3004]), y_true: tensor([ 1.3961, 14.8239])\n",
      "Loss: 3.9987595081329346\n",
      "pred: tensor([14.4808, 14.9208]), y_true: tensor([19.6821, 13.8390])\n",
      "Loss: 3.5786144733428955\n",
      "pred: tensor([14.5225,  8.1370]), y_true: tensor([13.3681,  6.5914])\n",
      "Loss: 5.252159118652344\n",
      "pred: tensor([14.4781, 14.9168]), y_true: tensor([15.8874, 13.2485])\n"
     ]
    },
    {
     "name": "stderr",
     "output_type": "stream",
     "text": [
      "11it [00:00, 29.95it/s]"
     ]
    },
    {
     "name": "stdout",
     "output_type": "stream",
     "text": [
      "Loss: 6.900613307952881\n",
      "pred: tensor([14.5195, 14.9778]), y_true: tensor([12.1822, 15.9412])\n",
      "Loss: 1.0388973951339722\n",
      "pred: tensor([14.5227,  8.1361]), y_true: tensor([17.9637,  8.6744])\n",
      "Loss: 1.6348837614059448\n",
      "pred: tensor([ 8.6274, 14.6172]), y_true: tensor([ 9.5019, 13.5513])\n",
      "Loss: 5.59605598449707\n",
      "pred: tensor([ 1.6901, 13.2758]), y_true: tensor([ 0.8467, 17.4095])\n"
     ]
    },
    {
     "name": "stderr",
     "output_type": "stream",
     "text": [
      "\n"
     ]
    }
   ],
   "source": [
    "def run_trainer():\n",
    "    seq_len = 40\n",
    "    # teacher_forcing_ratio = 0.5\n",
    "    test_dataloader = DataLoader(dataset=test_task1, batch_size=1)\n",
    "    input_data = train_dataloader\n",
    "    model.eval()\n",
    "    with torch.no_grad():\n",
    "        hidden_state = None\n",
    "        loss = 0\n",
    "        for idx, (y_true, trajectory_batch) in tqdm(enumerate(test_dataloader)):\n",
    "            for t in range(1, seq_len):  # seq_len is the number of time steps\n",
    "                input_t = trajectory_batch.squeeze()[:t]\n",
    "                target_t = trajectory_batch.squeeze()[1:t + 1]\n",
    "                output_t, hidden_state = model(input_t.squeeze(1), hidden_state)\n",
    "                loss = model.criterion(output_t.squeeze(1), target_t.squeeze(1))\n",
    "            print(f'Loss: {loss.item()}')\n",
    "            print(f\"pred: {output_t[-1][:2]}, y_true: {trajectory_batch.squeeze()[-1][:2]}\")\n",
    "            if (idx>10):\n",
    "                break\n",
    "run_trainer()\n",
    "            "
   ]
  },
  {
   "cell_type": "markdown",
   "metadata": {},
   "source": [
    "# Task 3"
   ]
  },
  {
   "cell_type": "markdown",
   "metadata": {},
   "source": [
    "In task 3, you also need to model the influences of the crystal. An example of loading a trajectory can be found below. The trajectory and energy data has the same shape as before, however, data regarding the crystal has been added. Since atoms belonging to the crystal do not move, this data does not have a time dimension when loaded. The shapes of the arrays are as follows:\n",
    "\n",
    "```trajectory```: ```(time, n_bodies, [x, y, v_x, v_y, q])```\n",
    "\n",
    "```energy```: ```(time, 1)```\n",
    "\n",
    "```framework```:```(n_framework_atom, [x, y, q])```\n",
    "\n"
   ]
  },
  {
   "cell_type": "code",
   "execution_count": 5,
   "metadata": {},
   "outputs": [
    {
     "name": "stdout",
     "output_type": "stream",
     "text": [
      "Trajectory shape: (40, 4, 5), Framework shape: (20, 3), Energy shape: (40, 1)\n"
     ]
    }
   ],
   "source": [
    "trajectory, framework, energy = load_trajectory('data/task3/train/trajectory_0.npz', 'task_3')\n",
    "print(f'Trajectory shape: {trajectory.shape}, Framework shape: {framework.shape}, Energy shape: {energy.shape}')"
   ]
  },
  {
   "cell_type": "markdown",
   "metadata": {},
   "source": [
    "The following code provides an example of how to visualize a trajectory with a crystal. Feel free to modify this code, or write your own function. When evaluating your model in this task, keep in mind that you are only allowed to use the data at t=0 (the black dots in the visualization)."
   ]
  },
  {
   "cell_type": "code",
   "execution_count": 6,
   "metadata": {},
   "outputs": [
    {
     "data": {
      "image/png": "[encoded data removed]",
      "text/plain": [
       "<Figure size 400x400 with 1 Axes>"
      ]
     },
     "metadata": {},
     "output_type": "display_data"
    },
    {
     "data": {
      "image/png": "[encoded data removed]",
      "text/plain": [
       "<Figure size 400x100 with 1 Axes>"
      ]
     },
     "metadata": {},
     "output_type": "display_data"
    }
   ],
   "source": [
    "x = trajectory[...,0]\n",
    "y = trajectory[...,1]\n",
    "\n",
    "x_fw = framework[...,0]\n",
    "y_fw = framework[...,1]\n",
    "q_fw = framework[...,2]\n",
    "\n",
    "plt.figure(figsize=(4,4))\n",
    "plt.vlines([0,20],0,20)\n",
    "plt.hlines([0,20],0,20)\n",
    "\n",
    "plt.scatter(x[0], y[0], c='black')\n",
    "\n",
    "for i in range(x.shape[1]):\n",
    "    plt.scatter(x[:,i], y[:,i], s=5)\n",
    "\n",
    "plt.scatter(x_fw, y_fw, c=q_fw, cmap='viridis', s=50)\n",
    "# to also visualize the framework points along the boundaries\n",
    "plt.scatter(x_fw+20, y_fw, c=q_fw, cmap='viridis', s=50)\n",
    "plt.scatter(x_fw, y_fw+20, c=q_fw, cmap='viridis', s=50)\n",
    "plt.scatter(x_fw+20, y_fw+20, c=q_fw, cmap='viridis', s=50)\n",
    "\n",
    "plt.xlim(-1,21)\n",
    "plt.ylim(-1,21)\n",
    "\n",
    "plt.show()\n",
    "plt.figure(figsize=(4,1))\n",
    "plt.plot(energy)\n",
    "plt.xlabel('step')\n",
    "plt.title('System energy over time')\n",
    "plt.show();"
   ]
  },
  {
   "cell_type": "markdown",
   "metadata": {},
   "source": [
    "Implement task 3 below. Feel free to add extra code cells for different components of your implementation."
   ]
  },
  {
   "cell_type": "code",
   "execution_count": null,
   "metadata": {},
   "outputs": [],
   "source": []
  }
 ],
 "metadata": {
  "kernelspec": {
   "display_name": "torch4",
   "language": "python",
   "name": "python3"
  },
  "language_info": {
   "codemirror_mode": {
    "name": "ipython",
    "version": 3
   },
   "file_extension": ".py",
   "mimetype": "text/x-python",
   "name": "python",
   "nbconvert_exporter": "python",
   "pygments_lexer": "ipython3",
   "version": "3.10.0"
  }
 },
 "nbformat": 4,
 "nbformat_minor": 2
}
