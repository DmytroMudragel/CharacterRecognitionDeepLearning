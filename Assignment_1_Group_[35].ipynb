{
  "cells": [
    {
      "cell_type": "markdown",
      "source": [
        "# Assignment 1 2AMM10 2023-2024\n",
        "\n",
        "## Group: [35]\n",
        "### Member 1: [Czaplicki, Michal]\n",
        "### Member 2: [Dongen, Johan van]\n",
        "### Member 3: [Mudragel, Dmytro]"
      ],
      "metadata": {
        "collapsed": false,
        "id": "cc4f04c033b0e00"
      },
      "id": "cc4f04c033b0e00"
    },
    {
      "cell_type": "markdown",
      "source": [
        "# Data Preparation"
      ],
      "metadata": {
        "id": "xwQHIf8CXhD9"
      },
      "id": "xwQHIf8CXhD9"
    },
    {
      "cell_type": "markdown",
      "source": [
        "## Data Loading"
      ],
      "metadata": {
        "id": "4BNK2U2Ye05o"
      },
      "id": "4BNK2U2Ye05o"
    },
    {
      "cell_type": "code",
      "outputs": [],
      "source": [
        "import numpy as np\n",
        "import torch\n",
        "import matplotlib.pyplot as plt\n",
        "import pickle\n",
        "import torch.nn as nn\n",
        "import torch.nn.functional as F\n",
        "import torchvision.transforms as T"
      ],
      "metadata": {
        "collapsed": true,
        "id": "initial_id"
      },
      "id": "initial_id",
      "execution_count": 1
    },
    {
      "cell_type": "code",
      "source": [
        "from google.colab import drive\n",
        "drive.mount('/content/drive')"
      ],
      "metadata": {
        "colab": {
          "base_uri": "https://localhost:8080/",
          "height": 0
        },
        "id": "fCHL-rpHYK-T",
        "outputId": "41c6d9ee-ca00-4d91-961d-374f42ab27c6"
      },
      "id": "fCHL-rpHYK-T",
      "execution_count": 2,
      "outputs": [
        {
          "output_type": "stream",
          "name": "stdout",
          "text": [
            "Mounted at /content/drive\n"
          ]
        }
      ]
    },
    {
      "cell_type": "code",
      "outputs": [],
      "source": [
        "# function for loading the training data:\n",
        "\n",
        "def load_data(file):\n",
        "    \"\"\"\n",
        "    This function loads the data from the specified pickle file and returns a dictionary with the data\n",
        "    :param filename: the pickle file\n",
        "    :return: dict with data -- keys and values differ for the train data and test data for each task.\n",
        "     Please see the cells with example code below for explanations and examples of the data structure per data set.\n",
        "    \"\"\"\n",
        "    path = '/content/drive/MyDrive/'\n",
        "    with open(path + file, 'rb') as f:\n",
        "        data_dict = pickle.load(f)\n",
        "    return data_dict"
      ],
      "metadata": {
        "id": "d19b9de0e3461531"
      },
      "id": "d19b9de0e3461531",
      "execution_count": 3
    },
    {
      "cell_type": "code",
      "outputs": [],
      "source": [
        "train_data = load_data('train_data.pkl')"
      ],
      "metadata": {
        "id": "d0da60a825f5080b"
      },
      "id": "d0da60a825f5080b",
      "execution_count": 4
    },
    {
      "cell_type": "markdown",
      "source": [
        "## Data Overview"
      ],
      "metadata": {
        "id": "JeTL_DC0OKVz"
      },
      "id": "JeTL_DC0OKVz"
    },
    {
      "cell_type": "code",
      "source": [
        "def count_total_images(data):\n",
        "    \"\"\"\n",
        "    Count the total number of images in the provided data.\n",
        "    Parameters:\n",
        "        data (dict): The dictionary containing the image data.\n",
        "    Returns:\n",
        "        int: The total number of images.\n",
        "    \"\"\"\n",
        "    total_images = 0\n",
        "    for alphabet in data.keys():\n",
        "        for character in data[alphabet].keys():\n",
        "            total_images += len(data[alphabet][character])\n",
        "    return total_images\n",
        "\n",
        "def display_image(data, alphabet_id, character_id, image_id):\n",
        "    \"\"\"\n",
        "    Display a single image from the provided data.\n",
        "    \"\"\"\n",
        "    alphabet = list(data.keys())[alphabet_id]\n",
        "    character = list(data[alphabet].keys())[character_id]\n",
        "    image = data[alphabet][character][image_id]\n",
        "    plt.imshow(np.squeeze(image))\n",
        "    plt.title(f\"Alphabet: {alphabet}, Character: {character}, Image ID: {image_id}\")\n",
        "    plt.axis('off')\n",
        "    plt.show()\n",
        "\n",
        "def count_total_characters_per_alphabet(data):\n",
        "    \"\"\"\n",
        "    Count the total number of unique characters in each alphabet of the provided data.\n",
        "    Parameters:\n",
        "        data (dict): The dictionary containing the image data.\n",
        "    Returns:\n",
        "        dict: A dictionary where keys are alphabets and values are the count of unique characters in each alphabet.\n",
        "    \"\"\"\n",
        "    total_characters_per_alphabet = {}\n",
        "    for alphabet in data.keys():\n",
        "        total_characters_per_alphabet[alphabet] = len(data[alphabet].keys())\n",
        "    return total_characters_per_alphabet"
      ],
      "metadata": {
        "id": "BCfTsNmpN2fP"
      },
      "id": "BCfTsNmpN2fP",
      "execution_count": 5,
      "outputs": []
    },
    {
      "cell_type": "code",
      "source": [
        "\n",
        "total_characters_per_alphabet = count_total_characters_per_alphabet(train_data)\n",
        "for alphabet, count in total_characters_per_alphabet.items():\n",
        "    print(f\"Alphabet: {alphabet}, Total unique characters: {count}\")\n",
        "\n",
        "\n",
        "total_unique_characters = sum(total_characters_per_alphabet.values())\n",
        "print(f\"Total number of unique characters across all alphabets: {total_unique_characters}\")\n",
        "\n",
        "total_images = count_total_images(train_data)\n",
        "print(f\"Total number of images: {total_images}\")\n"
      ],
      "metadata": {
        "colab": {
          "base_uri": "https://localhost:8080/",
          "height": 0
        },
        "id": "h9xZupsjM6o0",
        "outputId": "becb11e0-fe82-463b-ae22-701446eb65b1"
      },
      "id": "h9xZupsjM6o0",
      "execution_count": 6,
      "outputs": [
        {
          "output_type": "stream",
          "name": "stdout",
          "text": [
            "Alphabet: Alphabet_of_the_Magi, Total unique characters: 20\n",
            "Alphabet: Anglo-Saxon_Futhorc, Total unique characters: 29\n",
            "Alphabet: Arcadian, Total unique characters: 26\n",
            "Alphabet: Armenian, Total unique characters: 41\n",
            "Alphabet: Asomtavruli_(Georgian), Total unique characters: 40\n",
            "Alphabet: Balinese, Total unique characters: 24\n",
            "Alphabet: Bengali, Total unique characters: 46\n",
            "Alphabet: Blackfoot_(Canadian_Aboriginal_Syllabics), Total unique characters: 14\n",
            "Alphabet: Braille, Total unique characters: 26\n",
            "Alphabet: Burmese_(Myanmar), Total unique characters: 34\n",
            "Alphabet: Cyrillic, Total unique characters: 33\n",
            "Alphabet: Early_Aramaic, Total unique characters: 22\n",
            "Alphabet: Futurama, Total unique characters: 26\n",
            "Alphabet: Grantha, Total unique characters: 43\n",
            "Alphabet: Greek, Total unique characters: 24\n",
            "Alphabet: Gujarati, Total unique characters: 48\n",
            "Alphabet: Hebrew, Total unique characters: 22\n",
            "Alphabet: Inuktitut_(Canadian_Aboriginal_Syllabics), Total unique characters: 16\n",
            "Alphabet: Japanese_(hiragana), Total unique characters: 52\n",
            "Alphabet: Japanese_(katakana), Total unique characters: 47\n",
            "Alphabet: Korean, Total unique characters: 40\n",
            "Alphabet: Latin, Total unique characters: 26\n",
            "Alphabet: Malay_(Jawi_-_Arabic), Total unique characters: 40\n",
            "Alphabet: Mkhedruli_(Georgian), Total unique characters: 41\n",
            "Alphabet: N_Ko, Total unique characters: 33\n",
            "Alphabet: Ojibwe_(Canadian_Aboriginal_Syllabics), Total unique characters: 14\n",
            "Alphabet: Sanskrit, Total unique characters: 42\n",
            "Alphabet: Syriac_(Estrangelo), Total unique characters: 23\n",
            "Alphabet: Tagalog, Total unique characters: 17\n",
            "Alphabet: Tifinagh, Total unique characters: 55\n",
            "Total number of unique characters across all alphabets: 964\n",
            "Total number of images: 19280\n"
          ]
        }
      ]
    },
    {
      "cell_type": "code",
      "source": [
        "display_image(train_data, 3, 3, 8)"
      ],
      "metadata": {
        "colab": {
          "base_uri": "https://localhost:8080/",
          "height": 428
        },
        "id": "IPlLxZULgh3E",
        "outputId": "8846c515-16a7-4744-93b7-446eb8fe8b5c"
      },
      "id": "IPlLxZULgh3E",
      "execution_count": 7,
      "outputs": [
        {
          "output_type": "display_data",
          "data": {
            "text/plain": [
              "<Figure size 640x480 with 1 Axes>"
            ],
            "image/png": "[encoded data removed]"
          },
          "metadata": {}
        }
      ]
    },
    {
      "cell_type": "code",
      "outputs": [
        {
          "output_type": "stream",
          "name": "stdout",
          "text": [
            "example alphabet names: ['Alphabet_of_the_Magi', 'Anglo-Saxon_Futhorc', 'Arcadian', 'Armenian', 'Asomtavruli_(Georgian)']\n",
            "\n",
            "\n",
            "how to get an example image for a specific character:\n",
            "shape of image 2 of character character06 of alphabet Asomtavruli_(Georgian): torch.Size([1, 105, 105])\n"
          ]
        }
      ],
      "source": [
        "# the structure of the training data is a dict, where the keys are strings indicating the alphabet.\n",
        "# The values are again dicts, with the keys being the character and the values being a list of images of that character.\n",
        "\n",
        "# see the code below for examples of working with the train data\n",
        "\n",
        "alphabets = list(train_data.keys())\n",
        "print('example alphabet names:', alphabets[:5])\n",
        "print('\\n')\n",
        "print('how to get an example image for a specific character:')\n",
        "\n",
        "alphabet_id = 4\n",
        "alphabet = alphabets[alphabet_id]  # a dict\n",
        "characters_for_this_alphabet = list(train_data[alphabet].keys())\n",
        "character_id = 5\n",
        "character = characters_for_this_alphabet[character_id]\n",
        "image_id = 2\n",
        "print(f'shape of image {image_id} of character {character} of alphabet {alphabet}:', train_data[alphabet][character][image_id].shape)"
      ],
      "metadata": {
        "colab": {
          "base_uri": "https://localhost:8080/",
          "height": 0
        },
        "id": "289b9d9817ddf745",
        "outputId": "cbbaad35-c3e3-493a-b382-2d45939ff879"
      },
      "id": "289b9d9817ddf745",
      "execution_count": 8
    },
    {
      "cell_type": "code",
      "outputs": [],
      "source": [
        "# function for plotting some examples:\n",
        "\n",
        "def plot_example_data(data_dict):\n",
        "    \"\"\"\n",
        "    This function plots some examples of the data\n",
        "    :param data_dict: dict with as keys a string specifying the alphabet, and as values a dict with as keys the character of the alphabet, and as values a list om images of the alphabet\n",
        "    \"\"\"\n",
        "    fig, axs = plt.subplots(2, 5, figsize=(15, 6))\n",
        "    alphabets_to_plot = np.random.choice(list(data_dict.keys()), size=10, replace=False)\n",
        "\n",
        "    for i, alphabet in enumerate(alphabets_to_plot):\n",
        "        characters = data_dict[alphabet]\n",
        "        character_to_plot = np.random.choice(list(characters.keys()), size=1)[0]\n",
        "        images = characters[character_to_plot]\n",
        "        im_idx = np.random.choice(len(images), size=1)[0]\n",
        "        axs[i//5, i%5].imshow(images[im_idx].permute(1, 2, 0))\n",
        "        axs[i//5, i%5].set_title(alphabet + '\\n' + character_to_plot, fontsize=8)\n",
        "        axs[i//5, i%5].axis('off')\n",
        "    # plt.show()"
      ],
      "metadata": {
        "id": "f68bfac0812b8988"
      },
      "id": "f68bfac0812b8988",
      "execution_count": 9
    },
    {
      "cell_type": "code",
      "outputs": [
        {
          "output_type": "display_data",
          "data": {
            "text/plain": [
              "<Figure size 640x480 with 0 Axes>"
            ]
          },
          "metadata": {}
        },
        {
          "output_type": "display_data",
          "data": {
            "text/plain": [
              "<Figure size 1500x600 with 10 Axes>"
            ],
            "image/png": "[encoded data removed]"
          },
          "metadata": {}
        }
      ],
      "source": [
        "plt.figure()\n",
        "plot_example_data(train_data)\n",
        "# plt.savefig('example_data.png', dpi=600)\n",
        "plt.show()"
      ],
      "metadata": {
        "colab": {
          "base_uri": "https://localhost:8080/",
          "height": 535
        },
        "id": "511e9fbc1b85e80f",
        "outputId": "1014c536-a568-4d14-8484-7bb32ac8d244"
      },
      "id": "511e9fbc1b85e80f",
      "execution_count": 10
    },
    {
      "cell_type": "markdown",
      "source": [
        "## Data Preparation"
      ],
      "metadata": {
        "id": "RbBojl5yfC4P"
      },
      "id": "RbBojl5yfC4P"
    },
    {
      "cell_type": "code",
      "source": [
        "# Prepare dataset\n",
        "def process_data(data, transform):\n",
        "  alphabets = list(data.keys())\n",
        "  x = []\n",
        "  y = []\n",
        "  alphabet_counts = []\n",
        "  image_count_per_class = [] # 20 images per class\n",
        "  count = 0\n",
        "  for alphabet in alphabets:\n",
        "    characters_for_this_alphabet = list(train_data[alphabet].keys())\n",
        "    alphabet_counts.append(len(characters_for_this_alphabet))\n",
        "    for character in characters_for_this_alphabet:\n",
        "      image_count = 0\n",
        "      for image in data[alphabet][character]:\n",
        "        image_count +=1\n",
        "        # transform = T.Resize(32)\n",
        "        x.append(transform(image))\n",
        "        # x.append(image)\n",
        "        y.append(count)\n",
        "        # y.append(character)\n",
        "      image_count_per_class.append(image_count)\n",
        "      count += 1\n",
        "  return x, y, alphabet_counts, image_count_per_class"
      ],
      "metadata": {
        "id": "_itzGZxmfHYm"
      },
      "id": "_itzGZxmfHYm",
      "execution_count": 11,
      "outputs": []
    },
    {
      "cell_type": "code",
      "source": [
        "def create_label_dict(labels):\n",
        "  count = 0\n",
        "  result = {}\n",
        "  for label in labels:\n",
        "    if label in result:\n",
        "      continue\n",
        "    result[label] = count\n",
        "    result[count] = label # Bijective dict - Assuming label and count values dont overlap\n",
        "    count += 1\n",
        "  return result\n",
        "\n",
        "def process_test_data(test_data, alphabet):\n",
        "  x_train = []\n",
        "  y_train = []\n",
        "  labels = test_data['annotated_images_labels'][alphabet]\n",
        "  label_dict = create_label_dict(labels)\n",
        "\n",
        "  transform = T.Resize(32)\n",
        "  for c in range(len(test_data['annotated_images'][alphabet])):\n",
        "\n",
        "    x_train.append(transform(test_data['annotated_images'][alphabet][c]))\n",
        "    y_train.append(label_dict[test_data['annotated_images_labels'][alphabet][c]])\n",
        "\n",
        "  x_valid = []\n",
        "  y_valid = []\n",
        "  for c in range(len(test_data['unseen_images'][alphabet])):\n",
        "    x_valid.append(transform(test_data['unseen_images'][alphabet][c]))\n",
        "    y_valid.append(label_dict[test_data['unseen_images_labels'][alphabet][c]])\n",
        "  return x_train, y_train, x_valid, y_valid, label_dict"
      ],
      "metadata": {
        "id": "BxPisalDfHOb"
      },
      "id": "BxPisalDfHOb",
      "execution_count": 12,
      "outputs": []
    },
    {
      "cell_type": "code",
      "source": [
        "from torch.utils.data.sampler import BatchSampler\n",
        "import numpy as np\n",
        "class BalancedBatchSampler(BatchSampler):\n",
        "    \"\"\"\n",
        "    Returns batches of size n_classes * n_samples\n",
        "    \"\"\"\n",
        "\n",
        "    def __init__(self, labels, n_classes, n_samples):\n",
        "        self.labels = labels\n",
        "        self.labels_set = list(set(self.labels))\n",
        "        self.label_to_indices = {label: np.where(  np.array(self.labels) == label)[0]\n",
        "                                 for label in self.labels_set}\n",
        "        for l in self.labels_set:\n",
        "            np.random.shuffle(self.label_to_indices[l])\n",
        "        self.used_label_indices_count = {label: 0 for label in self.labels_set}\n",
        "        self.count = 0\n",
        "        self.n_classes = n_classes\n",
        "        self.n_samples = n_samples\n",
        "        self.n_dataset = len(self.labels)\n",
        "        self.batch_size = self.n_samples * self.n_classes\n",
        "\n",
        "    def __iter__(self):\n",
        "        self.count = 0\n",
        "        # print(self.batch_size, self.n_dataset)\n",
        "        # print(self.labels_set)\n",
        "        while self.count + self.batch_size < self.n_dataset:\n",
        "            classes = np.random.choice(self.labels_set, self.n_classes, replace=False)\n",
        "            indices = []\n",
        "            for class_ in classes:\n",
        "                indices.extend(self.label_to_indices[class_][\n",
        "                               self.used_label_indices_count[class_]:self.used_label_indices_count[\n",
        "                                                                         class_] + self.n_samples])\n",
        "                self.used_label_indices_count[class_] += self.n_samples\n",
        "                if self.used_label_indices_count[class_] + self.n_samples > len(self.label_to_indices[class_]):\n",
        "                    np.random.shuffle(self.label_to_indices[class_])\n",
        "                    self.used_label_indices_count[class_] = 0\n",
        "            yield indices\n",
        "            self.count += self.n_classes * self.n_samples\n",
        "\n",
        "    def __len__(self):\n",
        "        return self.n_dataset // self.batch_size"
      ],
      "metadata": {
        "id": "gLMC0MU4fHGt"
      },
      "id": "gLMC0MU4fHGt",
      "execution_count": 13,
      "outputs": []
    },
    {
      "cell_type": "code",
      "source": [
        "resize = T.Resize(32)\n",
        "transform_task1 = T.Compose([resize])\n",
        "x_train, y_train, info, info2 = process_data(train_data, transform_task1)"
      ],
      "metadata": {
        "id": "i0I2JM-MfHA-"
      },
      "id": "i0I2JM-MfHA-",
      "execution_count": 14,
      "outputs": []
    },
    {
      "cell_type": "code",
      "source": [
        "from torch.utils.data import DataLoader, TensorDataset\n",
        "\n",
        "train_batch_sampler = BalancedBatchSampler(y_train, n_classes=200, n_samples=10)\n",
        "triplets_train_loader = torch.utils.data.DataLoader(TensorDataset( torch.stack(x_train), torch.stack([torch.tensor(x) for x in y_train]) ), batch_sampler=train_batch_sampler)"
      ],
      "metadata": {
        "id": "2wHhToZHfHDj"
      },
      "id": "2wHhToZHfHDj",
      "execution_count": 15,
      "outputs": []
    },
    {
      "cell_type": "markdown",
      "source": [
        "# Task 1: Character recognition"
      ],
      "metadata": {
        "id": "dVefmt4tdR9O"
      },
      "id": "dVefmt4tdR9O"
    },
    {
      "cell_type": "markdown",
      "source": [
        "## Model Training"
      ],
      "metadata": {
        "id": "KY9SV_Z-_Zr9"
      },
      "id": "KY9SV_Z-_Zr9"
    },
    {
      "cell_type": "code",
      "source": [
        "class TripletLoss(nn.Module):\n",
        "    \"\"\"\n",
        "    Triplets loss\n",
        "    Takes a batch of embeddings and corresponding labels.\n",
        "    Triplets are generated using triplet_selector object that take embeddings and targets and return indices of\n",
        "    triplets\n",
        "    \"\"\"\n",
        "\n",
        "    def __init__(self, margin, triplet_selector):\n",
        "        super(TripletLoss, self).__init__()\n",
        "        self.margin = margin\n",
        "        self.triplet_selector = triplet_selector\n",
        "\n",
        "    def forward(self, embeddings, target):\n",
        "\n",
        "        triplets = self.triplet_selector.get_triplets(embeddings, target)\n",
        "\n",
        "        if embeddings.is_cuda:\n",
        "            triplets = triplets.cuda()\n",
        "\n",
        "\n",
        "        anchor_idx= triplets[:, 0]\n",
        "        positive_idx= triplets[:, 1]\n",
        "        negative_idx= triplets[:, 2]\n",
        "\n",
        "        ap_distances = (embeddings[anchor_idx] - embeddings[positive_idx]).pow(2).sum(1)  # .pow(.5)\n",
        "        an_distances = (embeddings[anchor_idx] - embeddings[negative_idx]).pow(2).sum(1)  # .pow(.5)\n",
        "        losses = F.relu(ap_distances - an_distances + self.margin)\n",
        "\n",
        "        return losses.mean()"
      ],
      "metadata": {
        "id": "ci6AuYQGdWLT"
      },
      "id": "ci6AuYQGdWLT",
      "execution_count": 16,
      "outputs": []
    },
    {
      "cell_type": "code",
      "source": [
        "from itertools import combinations\n",
        "\n",
        "def pdist(vectors):\n",
        "    distance_matrix = -2 * vectors.mm(torch.t(vectors)) + vectors.pow(2).sum(dim=1).view(1, -1) + vectors.pow(2).sum(\n",
        "        dim=1).view(-1, 1)\n",
        "    return distance_matrix\n",
        "class RandomTripletSelector():\n",
        "    \"\"\"\n",
        "    Select random negative  example for  each positive pair  to create triplets\n",
        "    \"\"\"\n",
        "\n",
        "    def __init__(self):\n",
        "        super(RandomTripletSelector, self).__init__()\n",
        "\n",
        "    def get_triplets(self, embeddings, labels):\n",
        "        labels = labels.cpu().data.numpy()\n",
        "        triplets = []\n",
        "        for label in set(labels):\n",
        "            label_mask = (labels == label)\n",
        "            label_indices = np.where(label_mask)[0]\n",
        "            if len(label_indices) < 2:\n",
        "                continue\n",
        "            negative_indices = np.where(np.logical_not(label_mask))[0]\n",
        "            anchor_positives = list(combinations(label_indices, 2))  # All anchor-positive pairs\n",
        "\n",
        "            # random choose one negative example for each positive pair\n",
        "            temp_triplets = [[anchor_positive[0], anchor_positive[1], np.random.choice(negative_indices)] for anchor_positive in anchor_positives]\n",
        "            triplets += temp_triplets\n",
        "\n",
        "        return torch.LongTensor(np.array(triplets))\n",
        "class Informative_Negative_TripletSelector():\n",
        "\n",
        "    def __init__(self, margin):\n",
        "        super(Informative_Negative_TripletSelector, self).__init__()\n",
        "\n",
        "        self.margin = margin\n",
        "\n",
        "   # Our goal is to mining informative triplets.\n",
        "    def informative_negative(self, loss_values):\n",
        "\n",
        "        informative_negative = np.where(loss_values > 0)[0]\n",
        "        return np.random.choice(informative_negative) if len(informative_negative) > 0 else None\n",
        "\n",
        "\n",
        "    def get_triplets(self, embeddings, labels):\n",
        "\n",
        "        if torch.cuda.is_available()==False:\n",
        "            embeddings = embeddings.cpu()\n",
        "        distance_matrix = pdist(embeddings)\n",
        "        distance_matrix = distance_matrix.cpu()\n",
        "\n",
        "        labels = labels.cpu().data.numpy()\n",
        "        triplets = []\n",
        "\n",
        "        for label in set(labels):\n",
        "            label_mask = (labels == label)\n",
        "            label_indices = np.where(label_mask)[0]\n",
        "            if len(label_indices) < 2:\n",
        "                continue\n",
        "            negative_indices = np.where(np.logical_not(label_mask))[0]\n",
        "            anchor_positives = list(combinations(label_indices, 2))  # All anchor-positive pairs\n",
        "            anchor_positives = np.array(anchor_positives)\n",
        "\n",
        "\n",
        "            ap_distances = distance_matrix[anchor_positives[:, 0], anchor_positives[:, 1]]\n",
        "            for anchor_positive, ap_distance in zip(anchor_positives, ap_distances):\n",
        "                loss_values = ap_distance - distance_matrix[torch.LongTensor(np.array([anchor_positive[0]])), torch.LongTensor(negative_indices)] + self.margin\n",
        "                loss_values = loss_values.data.cpu().numpy()\n",
        "\n",
        "                hard_negative = self.informative_negative(loss_values)\n",
        "                if hard_negative is not None:\n",
        "                    hard_negative = negative_indices[hard_negative]\n",
        "                    triplets.append([anchor_positive[0], anchor_positive[1], hard_negative])\n",
        "\n",
        "        if len(triplets) == 0:\n",
        "            triplets.append([anchor_positive[0], anchor_positive[1], negative_indices[0]])\n",
        "\n",
        "        triplets = np.array(triplets)\n",
        "\n",
        "        return torch.LongTensor(triplets)"
      ],
      "metadata": {
        "id": "U5h3B9xAdWIr"
      },
      "id": "U5h3B9xAdWIr",
      "execution_count": 17,
      "outputs": []
    },
    {
      "cell_type": "code",
      "source": [
        "class Lambda(nn.Module):\n",
        "    def __init__(self, func):\n",
        "        super().__init__()\n",
        "        self.func = func\n",
        "\n",
        "    def forward(self, x):\n",
        "        return self.func(x)\n",
        "\n",
        "class CharacterNet(nn.Module):\n",
        "  def __init__(self):\n",
        "    super().__init__()\n",
        "    self.front_layer = nn.Sequential(\n",
        "        nn.Conv2d(in_channels=1, out_channels=8, kernel_size=3, padding=1),\n",
        "        nn.BatchNorm2d(8),\n",
        "        nn.ReLU(inplace=True),\n",
        "        nn.Conv2d(in_channels=8, out_channels=16, kernel_size=3, padding=1),\n",
        "        nn.ReLU(inplace=True),\n",
        "        nn.MaxPool2d(kernel_size=2, stride=2),\n",
        "        # out 16\n",
        "\n",
        "        # Conv Layer block 2\n",
        "        nn.Conv2d(in_channels=16, out_channels=32, kernel_size=3, padding=1),\n",
        "        nn.BatchNorm2d(32),\n",
        "        nn.ReLU(inplace=True),\n",
        "        nn.Conv2d(in_channels=32, out_channels=32, kernel_size=3, padding=1),\n",
        "        nn.ReLU(inplace=True),\n",
        "        nn.MaxPool2d(kernel_size=2, stride=2),\n",
        "        #out 8\n",
        "\n",
        "\n",
        "        # Conv Layer block 3\n",
        "        nn.Conv2d(in_channels=32, out_channels=64, kernel_size=3, padding=1),\n",
        "        nn.BatchNorm2d(64),\n",
        "        nn.ReLU(inplace=True),\n",
        "        nn.Conv2d(in_channels=64, out_channels=64, kernel_size=3, padding=1),\n",
        "        nn.ReLU(inplace=True),\n",
        "        nn.MaxPool2d(kernel_size=2, stride=2),\n",
        "        #out 4\n",
        "\n",
        "        Lambda(lambda x: x.view(x.size(0), -1)),\n",
        "\n",
        "        nn.Linear(4*4*64, 1024),\n",
        "        nn.ReLU(inplace=True),\n",
        "        nn.Linear(1024, 1024),\n",
        "        nn.ReLU(inplace=True),\n",
        "    )\n",
        "    self.last_layer = nn.Linear(1024, 964)\n",
        "    #self.last_layer = nn.Linear(1024, len(all_chars))\n",
        "    # self.last_layer = nn.Linear(1024, 100)\n",
        "  def forward(self, x):\n",
        "        \"\"\"Perform forward.\"\"\"\n",
        "        # conv layers\n",
        "        x = self.front_layer(x)\n",
        "        x = self.last_layer(x)\n",
        "        return x"
      ],
      "metadata": {
        "id": "bHei5HR9dWDj"
      },
      "id": "bHei5HR9dWDj",
      "execution_count": 18,
      "outputs": []
    },
    {
      "cell_type": "code",
      "source": [
        "import numpy as np\n",
        "from tqdm import tqdm\n",
        "\n",
        "class Trainer():\n",
        "    def __init__(self,model: torch.nn.Module,device: torch.device,criterion: torch.nn.Module,optimizer: torch.optim.Optimizer,training_DataLoader: torch.utils.data.Dataset,epochs: int):\n",
        "        self.model = model\n",
        "        self.criterion = criterion\n",
        "        self.optimizer = optimizer\n",
        "        self.training_DataLoader = training_DataLoader\n",
        "        self.device = device\n",
        "        self.epochs = epochs\n",
        "    def run_trainer(self):\n",
        "        for epoch in tqdm(range(self.epochs)):\n",
        "            self.model.train()  # train mode\n",
        "            train_losses=[]\n",
        "            for batch in self.training_DataLoader:\n",
        "                x,y=batch\n",
        "                # print(len(x))\n",
        "                input, target = x.to(self.device), y.to(self.device)  # send to device (GPU or CPU)\n",
        "                self.optimizer.zero_grad()  # zerograd the parameters\n",
        "                out = self.model(input)  # one forward pass\n",
        "                loss = self.criterion(out, target)  # calculate loss\n",
        "\n",
        "                loss_value = loss.item()\n",
        "                train_losses.append(loss_value)\n",
        "\n",
        "                loss.backward()  # one backward pass\n",
        "                self.optimizer.step()  # update the parameters\n",
        "\n",
        "            print(f'EPOCH: {epoch+1:0>{len(str(self.epochs))}}/{self.epochs}\\n',end=' ')\n",
        "            print(f'LOSS: {np.mean(train_losses):.4f}',end=' ')"
      ],
      "metadata": {
        "id": "ZNkbT0NOdV7l"
      },
      "id": "ZNkbT0NOdV7l",
      "execution_count": 19,
      "outputs": []
    },
    {
      "cell_type": "code",
      "source": [
        "\n",
        "if torch.cuda.is_available():\n",
        "    device = torch.device('cuda')\n",
        "else:\n",
        "    device=torch.device('cpu')\n",
        "# device=torch.device('cpu')\n",
        "\n",
        "mined_embedding_net = CharacterNet()\n",
        "mined_model = mined_embedding_net.to(device)\n",
        "margin=1\n",
        "criterion = TripletLoss(margin,  Informative_Negative_TripletSelector(margin))\n",
        "optimizer = torch.optim.SGD(mined_model.parameters(), lr=0.1, momentum=0.9)\n",
        "trainer = Trainer(model=mined_model,device=device,criterion=criterion,optimizer=optimizer,training_DataLoader=triplets_train_loader,\n",
        "                  # validation_DataLoader=triplets_test_loader,\n",
        "                  epochs=10)\n",
        "trainer.run_trainer() # start training"
      ],
      "metadata": {
        "colab": {
          "base_uri": "https://localhost:8080/",
          "height": 0
        },
        "id": "3AGTtE8qdV27",
        "outputId": "dea61b10-392b-4d98-ff95-d2a4a82a9ad3"
      },
      "id": "3AGTtE8qdV27",
      "execution_count": 20,
      "outputs": [
        {
          "output_type": "stream",
          "name": "stderr",
          "text": [
            " 10%|█         | 1/10 [01:21<12:09, 81.06s/it]"
          ]
        },
        {
          "output_type": "stream",
          "name": "stdout",
          "text": [
            "EPOCH: 01/10\n",
            " LOSS: 1.0014 "
          ]
        },
        {
          "output_type": "stream",
          "name": "stderr",
          "text": [
            "\r 20%|██        | 2/10 [02:34<10:11, 76.39s/it]"
          ]
        },
        {
          "output_type": "stream",
          "name": "stdout",
          "text": [
            "EPOCH: 02/10\n",
            " LOSS: 1.2059 "
          ]
        },
        {
          "output_type": "stream",
          "name": "stderr",
          "text": [
            "\r 30%|███       | 3/10 [03:42<08:28, 72.68s/it]"
          ]
        },
        {
          "output_type": "stream",
          "name": "stdout",
          "text": [
            "EPOCH: 03/10\n",
            " LOSS: 1.1370 "
          ]
        },
        {
          "output_type": "stream",
          "name": "stderr",
          "text": [
            "\r 40%|████      | 4/10 [04:51<07:08, 71.41s/it]"
          ]
        },
        {
          "output_type": "stream",
          "name": "stdout",
          "text": [
            "EPOCH: 04/10\n",
            " LOSS: 1.2228 "
          ]
        },
        {
          "output_type": "stream",
          "name": "stderr",
          "text": [
            "\r 50%|█████     | 5/10 [05:59<05:49, 69.88s/it]"
          ]
        },
        {
          "output_type": "stream",
          "name": "stdout",
          "text": [
            "EPOCH: 05/10\n",
            " LOSS: 1.1308 "
          ]
        },
        {
          "output_type": "stream",
          "name": "stderr",
          "text": [
            "\r 60%|██████    | 6/10 [07:02<04:30, 67.56s/it]"
          ]
        },
        {
          "output_type": "stream",
          "name": "stdout",
          "text": [
            "EPOCH: 06/10\n",
            " LOSS: 1.0908 "
          ]
        },
        {
          "output_type": "stream",
          "name": "stderr",
          "text": [
            "\r 70%|███████   | 7/10 [08:06<03:19, 66.51s/it]"
          ]
        },
        {
          "output_type": "stream",
          "name": "stdout",
          "text": [
            "EPOCH: 07/10\n",
            " LOSS: 1.1069 "
          ]
        },
        {
          "output_type": "stream",
          "name": "stderr",
          "text": [
            "\r 80%|████████  | 8/10 [09:12<02:12, 66.49s/it]"
          ]
        },
        {
          "output_type": "stream",
          "name": "stdout",
          "text": [
            "EPOCH: 08/10\n",
            " LOSS: 1.0532 "
          ]
        },
        {
          "output_type": "stream",
          "name": "stderr",
          "text": [
            "\r 90%|█████████ | 9/10 [10:16<01:05, 65.54s/it]"
          ]
        },
        {
          "output_type": "stream",
          "name": "stdout",
          "text": [
            "EPOCH: 09/10\n",
            " LOSS: 1.0578 "
          ]
        },
        {
          "output_type": "stream",
          "name": "stderr",
          "text": [
            "100%|██████████| 10/10 [11:27<00:00, 68.79s/it]"
          ]
        },
        {
          "output_type": "stream",
          "name": "stdout",
          "text": [
            "EPOCH: 10/10\n",
            " LOSS: 1.0700 "
          ]
        },
        {
          "output_type": "stream",
          "name": "stderr",
          "text": [
            "\n"
          ]
        }
      ]
    },
    {
      "cell_type": "markdown",
      "source": [
        "## Evaluation Of The Model"
      ],
      "metadata": {
        "id": "1cKzNxRNlUmM"
      },
      "id": "1cKzNxRNlUmM"
    },
    {
      "cell_type": "code",
      "source": [
        "# load the test data:\n",
        "\n",
        "data_dict_test = load_data('test_data_task1.pkl')\n",
        "# keys are 'annotated_images', 'annotated_images_labels', 'unseen_images', 'unseen_images_labels'.\n",
        "# These keys correspond to the annotated images with known labels for each test alphabet (the sets A);\n",
        "# labels of the images with known labels for each test alphabet;\n",
        "# to-be-labeled unseen images for each test alphabet (sets U);\n",
        "# and labels of the to-be-labeled unseen images for each alphabet, respectively.\n",
        "# For each alphabet, the labels of the unseen images should be predicted by the model.\n",
        "# The true labels of the unseen images can only be used to calculate evaluation metrics.\n",
        "print(data_dict_test.keys())"
      ],
      "metadata": {
        "colab": {
          "base_uri": "https://localhost:8080/",
          "height": 0
        },
        "id": "cXO1JYJAnwy9",
        "outputId": "42705a2d-032a-4f1b-a075-0e187b4d3e30"
      },
      "id": "cXO1JYJAnwy9",
      "execution_count": 21,
      "outputs": [
        {
          "output_type": "stream",
          "name": "stdout",
          "text": [
            "dict_keys(['annotated_images', 'annotated_images_labels', 'unseen_images', 'unseen_images_labels'])\n"
          ]
        }
      ]
    },
    {
      "cell_type": "code",
      "source": [
        "type(data_dict_test['unseen_images'])\n",
        "data_dict_test['unseen_images'].keys()\n",
        "data_dict_test['unseen_images']['Tibetan'][4,0,...]\n",
        "plt.imshow(data_dict_test['unseen_images']['Tibetan'][4,0,...])"
      ],
      "metadata": {
        "colab": {
          "base_uri": "https://localhost:8080/",
          "height": 451
        },
        "id": "Rq1o_xdMNxFO",
        "outputId": "128ae116-924a-40b5-9f6f-17c6abac5f88"
      },
      "id": "Rq1o_xdMNxFO",
      "execution_count": 22,
      "outputs": [
        {
          "output_type": "execute_result",
          "data": {
            "text/plain": [
              "<matplotlib.image.AxesImage at 0x78b3947db3d0>"
            ]
          },
          "metadata": {},
          "execution_count": 22
        },
        {
          "output_type": "display_data",
          "data": {
            "text/plain": [
              "<Figure size 640x480 with 1 Axes>"
            ],
            "image/png": "[encoded data removed]"
          },
          "metadata": {}
        }
      ]
    },
    {
      "cell_type": "code",
      "source": [
        "def val(test_data, model, alphabet, k=8):\n",
        "  x_test_train, y_test_train, x_test_valid, y_test_valid, label_dict = process_test_data(test_data, alphabet)\n",
        "  counts = [0 for _ in range(k)]\n",
        "  count = 0\n",
        "\n",
        "  train_outputs = [ ]\n",
        "  model.eval()  # evaluation mode\n",
        "  with torch.no_grad():\n",
        "\n",
        "\n",
        "    for train_idx in range(len(x_test_train)):\n",
        "      train_outputs.append(model(x_test_train[train_idx].unsqueeze(0)))\n",
        "    for test_idx in range(len(x_test_valid)):\n",
        "      # Check distance for query in relation to all other images in the known train set\n",
        "      distances = []\n",
        "      output2 = model(x_test_valid[test_idx].unsqueeze(0))\n",
        "      for train_idx in range(len(x_test_train)):\n",
        "        # dist = siamese.get_distance(x_test_train[train_idx].unsqueeze(0), x_test_valid[test_idx].unsqueeze(0))\n",
        "        # dist = siamese.get_distance2(train_outputs[train_idx], x_test_valid[test_idx].unsqueeze(0))\n",
        "        dist = (train_outputs[train_idx] - output2).pow(2).sum(1)\n",
        "        distances.append(dist.item())\n",
        "\n",
        "      value, index = torch.topk(torch.tensor(distances), k, largest=False)\n",
        "      # print(f\"ytrue: {y_test_valid[test_idx]} pred: {index}\")\n",
        "      for i in range(k):\n",
        "        if (y_test_valid[test_idx] in index[:i+1]):\n",
        "            counts[i] += 1\n",
        "  return [counts, len(x_test_valid), [c/len(x_test_valid) for c in counts]]\n",
        "\n",
        "\n",
        "def calculate_accuracy(test_data, model, k):\n",
        "  result = []\n",
        "  counts = [0 for _ in range(k)]\n",
        "  total = 0\n",
        "  alphabets = list(test_data['unseen_images'].keys())\n",
        "  for alphabet in alphabets[::-1]:\n",
        "    alphabet_result = val(test_data, model, alphabet, k)\n",
        "    counts = [sum(x) for x in zip(counts, alphabet_result[0])]\n",
        "    total += alphabet_result[1]\n",
        "    print(f\"{[counts, total, [round(c/total, 2) for c in counts]]}\")\n",
        "  return [round(c/total, 2) for c in counts]\n",
        "\n",
        "\n",
        "result = calculate_accuracy(data_dict_test, mined_embedding_net, 8)\n",
        "print(result)"
      ],
      "metadata": {
        "colab": {
          "base_uri": "https://localhost:8080/",
          "height": 0
        },
        "id": "nVlbvSuxngJD",
        "outputId": "317ca1d4-cc55-49cb-8b0f-11acb3733d8d"
      },
      "id": "nVlbvSuxngJD",
      "execution_count": 23,
      "outputs": [
        {
          "output_type": "stream",
          "name": "stdout",
          "text": [
            "[[366, 442, 465, 471, 477, 482, 484, 484], 494, [0.74, 0.89, 0.94, 0.95, 0.97, 0.98, 0.98, 0.98]]\n",
            "[[911, 1118, 1183, 1211, 1230, 1242, 1250, 1253], 1292, [0.71, 0.87, 0.92, 0.94, 0.95, 0.96, 0.97, 0.97]]\n",
            "[[1262, 1526, 1620, 1661, 1686, 1706, 1715, 1719], 1767, [0.71, 0.86, 0.92, 0.94, 0.95, 0.97, 0.97, 0.97]]\n",
            "[[1569, 1870, 1998, 2057, 2096, 2126, 2142, 2150], 2204, [0.71, 0.85, 0.91, 0.93, 0.95, 0.96, 0.97, 0.98]]\n",
            "[[1867, 2260, 2442, 2533, 2584, 2631, 2655, 2666], 2736, [0.68, 0.83, 0.89, 0.93, 0.94, 0.96, 0.97, 0.97]]\n",
            "[[2297, 2846, 3105, 3250, 3326, 3389, 3433, 3457], 3610, [0.64, 0.79, 0.86, 0.9, 0.92, 0.94, 0.95, 0.96]]\n",
            "[[3002, 3651, 3931, 4082, 4164, 4229, 4276, 4303], 4465, [0.67, 0.82, 0.88, 0.91, 0.93, 0.95, 0.96, 0.96]]\n",
            "[[3438, 4164, 4474, 4631, 4718, 4786, 4836, 4868], 5035, [0.68, 0.83, 0.89, 0.92, 0.94, 0.95, 0.96, 0.97]]\n",
            "[[3866, 4695, 5057, 5255, 5360, 5444, 5504, 5550], 5795, [0.67, 0.81, 0.87, 0.91, 0.92, 0.94, 0.95, 0.96]]\n",
            "[[4448, 5416, 5843, 6069, 6202, 6300, 6370, 6419], 6688, [0.67, 0.81, 0.87, 0.91, 0.93, 0.94, 0.95, 0.96]]\n",
            "[[4858, 5881, 6323, 6557, 6691, 6791, 6861, 6910], 7182, [0.68, 0.82, 0.88, 0.91, 0.93, 0.95, 0.96, 0.96]]\n",
            "[[5307, 6441, 6945, 7219, 7381, 7501, 7580, 7639], 7961, [0.67, 0.81, 0.87, 0.91, 0.93, 0.94, 0.95, 0.96]]\n",
            "[[5855, 7127, 7686, 8007, 8185, 8318, 8406, 8472], 8816, [0.66, 0.81, 0.87, 0.91, 0.93, 0.94, 0.95, 0.96]]\n",
            "[[6448, 7807, 8405, 8761, 8957, 9102, 9203, 9273], 9671, [0.67, 0.81, 0.87, 0.91, 0.93, 0.94, 0.95, 0.96]]\n",
            "[[6784, 8215, 8847, 9218, 9427, 9574, 9678, 9750], 10165, [0.67, 0.81, 0.87, 0.91, 0.93, 0.94, 0.95, 0.96]]\n",
            "[[7135, 8653, 9318, 9698, 9911, 10059, 10164, 10238], 10659, [0.67, 0.81, 0.87, 0.91, 0.93, 0.94, 0.95, 0.96]]\n",
            "[[7570, 9120, 9789, 10170, 10383, 10535, 10642, 10724], 11153, [0.68, 0.82, 0.88, 0.91, 0.93, 0.94, 0.95, 0.96]]\n",
            "[[7896, 9510, 10213, 10621, 10843, 11003, 11113, 11203], 11647, [0.68, 0.82, 0.88, 0.91, 0.93, 0.94, 0.95, 0.96]]\n",
            "[[8261, 9956, 10683, 11099, 11331, 11495, 11606, 11696], 12141, [0.68, 0.82, 0.88, 0.91, 0.93, 0.95, 0.96, 0.96]]\n",
            "[[8568, 10314, 11052, 11475, 11708, 11872, 11984, 12075], 12521, [0.68, 0.82, 0.88, 0.92, 0.94, 0.95, 0.96, 0.96]]\n",
            "[0.68, 0.82, 0.88, 0.92, 0.94, 0.95, 0.96, 0.96]\n"
          ]
        }
      ]
    },
    {
      "cell_type": "code",
      "source": [
        "def calculate_accuracy(test_data, model, k):\n",
        "  result = []\n",
        "  counts = [0 for _ in range(k)]\n",
        "  total = 0\n",
        "  alphabets = list(test_data['unseen_images'].keys())\n",
        "  for alphabet in alphabets[::-1]:\n",
        "    alphabet_result = val(test_data, model, alphabet, k)\n",
        "    counts = [sum(x) for x in zip(counts, alphabet_result[0])]\n",
        "    total += alphabet_result[1]\n",
        "    #print(f\"{[counts, total, [round(c/total, 2) for c in counts]]}\")\n",
        "  return [round(c/total, 2) for c in counts]"
      ],
      "metadata": {
        "id": "3kmoSv2W_f2F"
      },
      "id": "3kmoSv2W_f2F",
      "execution_count": 24,
      "outputs": []
    },
    {
      "cell_type": "markdown",
      "source": [
        "To evaluate the model against a random guessing baseline, we can create a function that generates random predictions and calculates the top-k accuracy. Here's how you can do it:"
      ],
      "metadata": {
        "id": "p3Yo2jFa_vx-"
      },
      "id": "p3Yo2jFa_vx-"
    },
    {
      "cell_type": "code",
      "source": [
        "def random_baseline(test_data, k_values=[1, 2, 3, 4, 5, 6, 7, 8]):\n",
        "    alphabets = list(test_data['unseen_images'].keys())\n",
        "    total = 0\n",
        "    counts = {k: 0 for k in k_values}\n",
        "\n",
        "    for alphabet in alphabets[::-1]:\n",
        "        x_test_train, y_test_train, x_test_valid, y_test_valid, label_dict = process_test_data(test_data, alphabet)\n",
        "        total += len(x_test_valid)\n",
        "\n",
        "        for test_idx in range(len(x_test_valid)):\n",
        "            # Generate random predictions\n",
        "            random_predictions = torch.randint(0, len(x_test_train), (max(k_values),))\n",
        "            for k in k_values:\n",
        "                # Check if the true label is in the top-k random predictions\n",
        "                if y_test_valid[test_idx] in random_predictions[:k]:\n",
        "                    counts[k] += 1\n",
        "    accuracies = []\n",
        "    # Calculate top-k accuracy for each k\n",
        "    #accuracies = {k: round(counts[k] / total, 2) for k in k_values}\n",
        "    for k in k_values:\n",
        "        accuracies.append(round(counts[k] / total, 2))\n",
        "    #for k in k_values:\n",
        "    #  print(round(counts[k]),total)\n",
        "    return accuracies\n",
        "\n",
        "random_baseline_result = random_baseline(data_dict_test)\n",
        "print(random_baseline_result)"
      ],
      "metadata": {
        "colab": {
          "base_uri": "https://localhost:8080/",
          "height": 0
        },
        "id": "vm9WTlgZ_fxf",
        "outputId": "d40fd562-c0ba-45ad-e0ff-5ba3246126b0"
      },
      "id": "vm9WTlgZ_fxf",
      "execution_count": 25,
      "outputs": [
        {
          "output_type": "stream",
          "name": "stdout",
          "text": [
            "[0.03, 0.06, 0.09, 0.12, 0.15, 0.17, 0.2, 0.22]\n"
          ]
        }
      ]
    },
    {
      "cell_type": "code",
      "source": [
        "random_baseline_result = random_baseline(data_dict_test)\n",
        "result = calculate_accuracy(data_dict_test, mined_embedding_net, 8)\n",
        "k = [1,2,3,4,5,6,7,8]\n",
        "#plt.plot(k,result)\n",
        "\n",
        "# Generate some data for plotting\n",
        "#x = np.linspace(0, 10, 100)\n",
        "y1 = random_baseline_result\n",
        "y2 = result\n",
        "\n",
        "# Create a figure and a single axes\n",
        "fig, ax = plt.subplots(figsize=(8, 8))\n",
        "\n",
        "# Plot the first line\n",
        "ax.plot(k, y1, label='Random Guessing Baseline', color='blue')\n",
        "ax.plot(k, y2, label='Task1 Model', color='green')\n",
        "\n",
        "\n",
        "ax.set_title('Comparison of Top-k Accuracy: Random Guessing Baseline vs Task1 Model')\n",
        "ax.set_xlabel('K')\n",
        "ax.set_ylabel('Accuracy')\n",
        "ax.legend()\n",
        "ax.grid(True)\n",
        "plt.show()"
      ],
      "metadata": {
        "colab": {
          "base_uri": "https://localhost:8080/",
          "height": 718
        },
        "id": "3NS3pyeVIdHg",
        "outputId": "e1074403-b94c-43a5-c106-f44d21a67b33"
      },
      "id": "3NS3pyeVIdHg",
      "execution_count": 26,
      "outputs": [
        {
          "output_type": "display_data",
          "data": {
            "text/plain": [
              "<Figure size 800x800 with 1 Axes>"
            ],
            "image/png": "[encoded data removed]"
          },
          "metadata": {}
        }
      ]
    },
    {
      "cell_type": "markdown",
      "source": [
        "This function generates random predictions for each test sample and checks if the true label is within the top-k random predictions for each k in {1, 2, 4, 8}. The top-k accuracy is then calculated by dividing the number of correct predictions by the total number of test samples."
      ],
      "metadata": {
        "id": "2cKEuMkWACun"
      },
      "id": "2cKEuMkWACun"
    },
    {
      "cell_type": "code",
      "source": [
        "import matplotlib.pyplot as plt\n",
        "import numpy as np\n",
        "import torch\n",
        "\n",
        "def display_image(data, alphabet, character, image_id, ax, title=\"\"):\n",
        "    \"\"\"\n",
        "    Display a single image from the provided data.\n",
        "    \"\"\"\n",
        "    ax.set_title(title)\n",
        "    ax.axis('off')\n",
        "\n",
        "def val_and_collect(test_data, model, alphabet, k=8):\n",
        "    x_test_train, y_test_train, x_test_valid, y_test_valid, label_dict = process_test_data(test_data, alphabet)\n",
        "    counts = [0 for _ in range(k)]\n",
        "    correct_predictions = []\n",
        "    incorrect_predictions = []\n",
        "\n",
        "    train_outputs = []\n",
        "    model.eval()  # evaluation mode\n",
        "    with torch.no_grad():\n",
        "        for train_idx in range(len(x_test_train)):\n",
        "            train_outputs.append(model(x_test_train[train_idx].unsqueeze(0)))\n",
        "        for test_idx in range(len(x_test_valid)):\n",
        "            distances = []\n",
        "            output2 = model(x_test_valid[test_idx].unsqueeze(0))\n",
        "            for train_idx in range(len(x_test_train)):\n",
        "                dist = (train_outputs[train_idx] - output2).pow(2).sum(1)\n",
        "                distances.append(dist.item())\n",
        "\n",
        "            value, index = torch.topk(torch.tensor(distances), k, largest=False)\n",
        "\n",
        "            true_label = y_test_valid[test_idx]\n",
        "            predicted_indices = index.tolist()\n",
        "\n",
        "            if true_label in predicted_indices[:k]:\n",
        "                correct_predictions.append((true_label, predicted_indices, test_idx))\n",
        "            else:\n",
        "                incorrect_predictions.append((true_label, predicted_indices, test_idx))\n",
        "\n",
        "            for i in range(k):\n",
        "                if (true_label in predicted_indices[:i+1]):\n",
        "                    counts[i] += 1\n",
        "\n",
        "    return counts, len(x_test_valid), [c/len(x_test_valid) for c in counts], correct_predictions, incorrect_predictions\n",
        "\n",
        "def evaluate_and_display_results(test_data, model, k):\n",
        "    counts = [0 for _ in range(k)]\n",
        "    total = 0\n",
        "    correct_predictions = []\n",
        "    incorrect_predictions = []\n",
        "    alphabets = list(test_data['unseen_images'].keys())\n",
        "\n",
        "    for alphabet in alphabets[::-1]:\n",
        "        alphabet_counts, alphabet_total, _, correct, incorrect = val_and_collect(test_data, model, alphabet, k)\n",
        "        counts = [sum(x) for x in zip(counts, alphabet_counts)]\n",
        "        total += alphabet_total\n",
        "        correct_predictions.extend(correct)\n",
        "        incorrect_predictions.extend(incorrect)\n",
        "\n",
        "    print(f\"Accuracy for top-{k}: {round(counts[k-1] / total, 2)}\")\n",
        "\n",
        "    print(\"Correct\")\n",
        "    for idx, (true_label, predicted_indices, test_idx) in enumerate(correct_predictions[:5]):\n",
        "         alphabet, character, image_id = true_label // 100, true_label % 100, test_idx\n",
        "         print(f\"True: {true_label}\\nPred: {predicted_indices}\")\n",
        "\n",
        "    print('Incorrect')\n",
        "    for idx, (true_label, predicted_indices, test_idx) in enumerate(incorrect_predictions[:5]):\n",
        "         alphabet, character, image_id = true_label // 100, true_label % 100, test_idx\n",
        "         print(f\"True Lable: {true_label}\\n Predicted: {predicted_indices}\")"
      ],
      "metadata": {
        "collapsed": true,
        "id": "Fbg2TaLp_fvd"
      },
      "id": "Fbg2TaLp_fvd",
      "execution_count": 28,
      "outputs": []
    },
    {
      "cell_type": "code",
      "source": [
        "evaluate_and_display_results(data_dict_test, mined_embedding_net, 8)"
      ],
      "metadata": {
        "colab": {
          "base_uri": "https://localhost:8080/",
          "height": 0
        },
        "id": "Ho2Lzewc_fth",
        "outputId": "aed940bc-387a-462c-af30-e4e798f3627e"
      },
      "id": "Ho2Lzewc_fth",
      "execution_count": 29,
      "outputs": [
        {
          "output_type": "stream",
          "name": "stdout",
          "text": [
            "Accuracy for top-8: 0.96\n",
            "Correct\n",
            "True: 0\n",
            "Pred: [12, 0, 22, 10, 14, 8, 7, 5]\n",
            "True: 0\n",
            "Pred: [0, 12, 10, 14, 25, 22, 23, 11]\n",
            "True: 0\n",
            "Pred: [12, 0, 14, 10, 8, 22, 11, 1]\n",
            "True: 0\n",
            "Pred: [12, 0, 14, 8, 7, 10, 22, 5]\n",
            "True: 0\n",
            "Pred: [0, 12, 10, 4, 8, 22, 7, 25]\n",
            "Incorrect\n",
            "True Lable: 2\n",
            " Predicted: [17, 1, 9, 3, 18, 11, 15, 21]\n",
            "True Lable: 2\n",
            " Predicted: [17, 3, 15, 1, 21, 11, 9, 16]\n",
            "True Lable: 2\n",
            " Predicted: [1, 15, 9, 21, 17, 18, 16, 3]\n",
            "True Lable: 2\n",
            " Predicted: [1, 15, 21, 18, 17, 9, 3, 5]\n",
            "True Lable: 2\n",
            " Predicted: [1, 15, 18, 17, 16, 11, 14, 23]\n"
          ]
        }
      ]
    },
    {
      "cell_type": "code",
      "source": [
        "import matplotlib.pyplot as plt\n",
        "import numpy as np\n",
        "import torch\n",
        "\n",
        "def display_image(data, alphabet, character, image_id, ax, title=\"\"):\n",
        "    \"\"\"\n",
        "    Display a single image from the provided data.\n",
        "    \"\"\"\n",
        "    image = data[alphabet][image_id,0,...]\n",
        "    ax.imshow(np.squeeze(image), cmap='gray')\n",
        "    ax.set_title(title)\n",
        "    ax.axis('off')\n",
        "\n",
        "def val_and_collect(test_data, model, alphabet, k=8):\n",
        "    x_test_train, y_test_train, x_test_valid, y_test_valid, label_dict = process_test_data(test_data, alphabet)\n",
        "    counts = [0 for _ in range(k)]\n",
        "    correct_predictions = []\n",
        "    incorrect_predictions = []\n",
        "\n",
        "    train_outputs = []\n",
        "    model.eval()  # evaluation mode\n",
        "    with torch.no_grad():\n",
        "        for train_idx in range(len(x_test_train)):\n",
        "            train_outputs.append(model(x_test_train[train_idx].unsqueeze(0)))\n",
        "        lables = []\n",
        "        lables_in = []\n",
        "        for test_idx in range(len(x_test_valid)):\n",
        "            distances = []\n",
        "            output2 = model(x_test_valid[test_idx].unsqueeze(0))\n",
        "            for train_idx in range(len(x_test_train)):\n",
        "                dist = (train_outputs[train_idx] - output2).pow(2).sum(1)\n",
        "                distances.append(dist.item())\n",
        "\n",
        "            value, index = torch.topk(torch.tensor(distances), k, largest=False)\n",
        "\n",
        "            true_label = y_test_valid[test_idx]\n",
        "            predicted_indices = index.tolist()\n",
        "\n",
        "            if true_label in predicted_indices[:k] and true_label not in lables:\n",
        "                correct_predictions.append((true_label, predicted_indices, test_idx))\n",
        "                lables.append(true_label)\n",
        "            elif true_label not in predicted_indices[:k] and true_label not in lables_in:\n",
        "                incorrect_predictions.append((true_label, predicted_indices, test_idx))\n",
        "                lables_in.append(true_label)\n",
        "            for i in range(k):\n",
        "                if (true_label in predicted_indices[:i+1]):\n",
        "                    counts[i] += 1\n",
        "\n",
        "    return counts, len(x_test_valid), [c/len(x_test_valid) for c in counts], correct_predictions, incorrect_predictions\n",
        "\n",
        "def evaluate_and_display_results(test_data, model, k):\n",
        "    counts = [0 for _ in range(k)]\n",
        "    total = 0\n",
        "    correct_predictions = []\n",
        "    incorrect_predictions = []\n",
        "    alphabets = list(test_data['unseen_images'].keys())\n",
        "\n",
        "    for alphabet in alphabets[::-1]:\n",
        "        alphabet_counts, alphabet_total, _, correct, incorrect = val_and_collect(test_data, model, alphabet, k)\n",
        "        counts = [sum(x) for x in zip(counts, alphabet_counts)]\n",
        "        total += alphabet_total\n",
        "        correct_predictions.extend(correct)\n",
        "        incorrect_predictions.extend(incorrect)\n",
        "\n",
        "    print(f\"Accuracy for top-{k}: {round(counts[k-1] / total, 2)}\")\n",
        "\n",
        "    fig, axs = plt.subplots(2, 5, figsize=(15, 6))\n",
        "    for idx, (true_label, predicted_indices, test_idx) in enumerate(correct_predictions[:5]):\n",
        "         display_image(test_data['unseen_images'], alphabet, character, test_idx, axs[0, idx], f\"True: {true_label}\\nPred: {predicted_indices}\")\n",
        "    for idx, (true_label, predicted_indices, test_idx) in enumerate(incorrect_predictions[:5]):\n",
        "         display_image(test_data['unseen_images'], alphabet, character, test_idx, axs[1, idx], f\"True: {true_label}\\nPred: {predicted_indices}\")\n",
        "\n",
        "    axs[0, 0].set_ylabel('Correct', fontsize=12)\n",
        "    axs[1, 0].set_ylabel('Incorrect', fontsize=12)\n",
        "\n",
        "    plt.tight_layout()\n",
        "    plt.show()\n",
        "\n",
        "evaluate_and_display_results(data_dict_test, mined_embedding_net, 8)"
      ],
      "metadata": {
        "colab": {
          "base_uri": "https://localhost:8080/",
          "height": 628
        },
        "id": "_xTzwbSt_fmw",
        "outputId": "23b36253-bc3a-4eb4-ec51-b31c2b5e6db6"
      },
      "id": "_xTzwbSt_fmw",
      "execution_count": 32,
      "outputs": [
        {
          "output_type": "stream",
          "name": "stdout",
          "text": [
            "Accuracy for top-8: 0.96\n"
          ]
        },
        {
          "output_type": "display_data",
          "data": {
            "text/plain": [
              "<Figure size 1500x600 with 10 Axes>"
            ],
            "image/png": "[encoded data removed]"
          },
          "metadata": {}
        }
      ]
    },
    {
      "cell_type": "markdown",
      "source": [
        "# Task 2: rotation problem"
      ],
      "metadata": {
        "collapsed": false,
        "id": "f49a6fcc9bcd5994"
      },
      "id": "f49a6fcc9bcd5994"
    },
    {
      "cell_type": "code",
      "outputs": [],
      "source": [
        "# load the test data for task 2:\n",
        "# the structure of the test data of task 2 is exactly the same as for task 1,\n",
        "# but now the images are rotated by an unknown angle between 0 and 360 degrees.\n",
        "data_dict_test_task2 = load_data('test_data_task2.pkl')"
      ],
      "metadata": {
        "id": "800d9fa43d711ae0"
      },
      "id": "800d9fa43d711ae0",
      "execution_count": null
    },
    {
      "cell_type": "code",
      "outputs": [],
      "source": [
        "data_dict_test_task2.keys()"
      ],
      "metadata": {
        "id": "cfd690817a188882"
      },
      "id": "cfd690817a188882",
      "execution_count": null
    },
    {
      "cell_type": "code",
      "outputs": [],
      "source": [
        "# solution and evaluation of task 2:"
      ],
      "metadata": {
        "id": "ab7aa34500088f66"
      },
      "id": "ab7aa34500088f66",
      "execution_count": null
    },
    {
      "cell_type": "code",
      "outputs": [],
      "source": [],
      "metadata": {
        "id": "71298802fa5d6fb8"
      },
      "id": "71298802fa5d6fb8",
      "execution_count": null
    },
    {
      "cell_type": "code",
      "outputs": [],
      "source": [],
      "metadata": {
        "id": "4e6e3e82ce917c0f"
      },
      "id": "4e6e3e82ce917c0f",
      "execution_count": null
    },
    {
      "cell_type": "code",
      "outputs": [],
      "source": [],
      "metadata": {
        "id": "e701b2a68bd4d32a"
      },
      "id": "e701b2a68bd4d32a",
      "execution_count": null
    },
    {
      "cell_type": "markdown",
      "source": [
        "# Task 3: Domain knowledge injection"
      ],
      "metadata": {
        "collapsed": false,
        "id": "bfdbe34799376c36"
      },
      "id": "bfdbe34799376c36"
    },
    {
      "cell_type": "code",
      "outputs": [],
      "source": [
        "# load the test data for task 3:\n",
        "# the structure of the data of task 3 is exactly the same as for task 1, but now our the loaded dictionary contains some additional keys.\n",
        "# These additional keys will be explained in the cells below:\n",
        "\n",
        "data_dict_test_task3 = load_data('test_data_task3.pkl')\n",
        "print(data_dict_test_task3.keys())"
      ],
      "metadata": {
        "id": "aa248dbece85da5c"
      },
      "id": "aa248dbece85da5c",
      "execution_count": null
    },
    {
      "cell_type": "code",
      "outputs": [],
      "source": [
        "# The keys 'annotated_images', 'annotated_images_labels', 'unseen_images', 'unseen_images_labels' are the same as for task 1, and the structure of the data is exactly the same.\n",
        "\n",
        "# The key 'unseen_images_preceding_types' maps to the type of the preceding character in the sequence where the unseen image was observed, for each alphabet.\n",
        "# The key 'character_to_type_mapping' maps to the mapping of each character to its type, for each alphabet.\n",
        "# The key 'type_following_probs' maps to the probabilities of each character type being followed by another character type, for each alphabet."
      ],
      "metadata": {
        "id": "7fb6a6237a187493"
      },
      "id": "7fb6a6237a187493",
      "execution_count": null
    },
    {
      "cell_type": "code",
      "outputs": [],
      "source": [
        "# examples:\n",
        "\n",
        "alphabet = np.random.choice(list(data_dict_test_task3['unseen_images_preceding_types'].keys()))\n",
        "print(f'Alphabet: {alphabet}')\n",
        "\n",
        "\n",
        "preceding_character_types_alphabet = data_dict_test_task3[\"unseen_images_preceding_types\"][alphabet]  # a list\n",
        "print(f'Some character types that preceded unseen images from the {alphabet} alphabet: {np.random.choice(preceding_character_types_alphabet, size=5)}')\n",
        "print(f'There are {len(preceding_character_types_alphabet)} preceding character types in the {alphabet} alphabet, and {len(data_dict_test_task3[\"unseen_images\"][alphabet])} unseen images.')\n",
        "\n",
        "\n",
        "character_to_type_mapping_alphabet = data_dict_test_task3[\"character_to_type_mapping\"][alphabet]\n",
        "# this is a dict, with as keys the characters and as values the types\n",
        "random_character = np.random.choice(list(character_to_type_mapping_alphabet.keys()))\n",
        "print(f'Type of {random_character} from the {alphabet} alphabet: {character_to_type_mapping_alphabet[random_character]}')\n",
        "\n",
        "\n",
        "\n",
        "type_following_probs_alphabet = data_dict_test_task3[\"type_following_probs\"][alphabet]  # a dict of dicts\n",
        "preceding_type = np.random.choice(list(type_following_probs_alphabet.keys()))\n",
        "following_type = np.random.choice(list(type_following_probs_alphabet[preceding_type].keys()))\n",
        "print(f'Probability of a character of type {following_type} following a character of type {preceding_type} in the {alphabet} alphabet: {type_following_probs_alphabet[preceding_type][following_type]}')\n"
      ],
      "metadata": {
        "id": "ef9bcef5572f0a78"
      },
      "id": "ef9bcef5572f0a78",
      "execution_count": null
    },
    {
      "cell_type": "code",
      "outputs": [],
      "source": [],
      "metadata": {
        "id": "cbaa137b41e610ce"
      },
      "id": "cbaa137b41e610ce",
      "execution_count": null
    },
    {
      "cell_type": "code",
      "outputs": [],
      "source": [],
      "metadata": {
        "id": "700c29e735fd10c5"
      },
      "id": "700c29e735fd10c5",
      "execution_count": null
    },
    {
      "cell_type": "code",
      "outputs": [],
      "source": [],
      "metadata": {
        "id": "eb7d09f31839b40"
      },
      "id": "eb7d09f31839b40",
      "execution_count": null
    },
    {
      "cell_type": "code",
      "outputs": [],
      "source": [],
      "metadata": {
        "id": "596ab2a615cb44e9"
      },
      "id": "596ab2a615cb44e9",
      "execution_count": null
    },
    {
      "cell_type": "code",
      "outputs": [],
      "source": [],
      "metadata": {
        "id": "a2656ede1e4adbe8"
      },
      "id": "a2656ede1e4adbe8",
      "execution_count": null
    },
    {
      "cell_type": "code",
      "outputs": [],
      "source": [],
      "metadata": {
        "id": "42d46e71207afe47"
      },
      "id": "42d46e71207afe47",
      "execution_count": null
    }
  ],
  "metadata": {
    "kernelspec": {
      "display_name": "Python 3",
      "language": "python",
      "name": "python3"
    },
    "language_info": {
      "codemirror_mode": {
        "name": "ipython",
        "version": 2
      },
      "file_extension": ".py",
      "mimetype": "text/x-python",
      "name": "python",
      "nbconvert_exporter": "python",
      "pygments_lexer": "ipython2",
      "version": "2.7.6"
    },
    "colab": {
      "provenance": [],
      "collapsed_sections": [
        "RbBojl5yfC4P",
        "f49a6fcc9bcd5994",
        "bfdbe34799376c36"
      ]
    }
  },
  "nbformat": 4,
  "nbformat_minor": 5
}